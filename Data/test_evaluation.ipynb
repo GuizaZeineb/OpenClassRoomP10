{
 "cells": [
  {
   "cell_type": "code",
   "execution_count": 1,
   "id": "ccc6c25a",
   "metadata": {},
   "outputs": [],
   "source": [
    "import argparse\n",
    "import time\n",
    "import os\n",
    "import json\n",
    "import re\n",
    "\n",
    "\n",
    "from azure.cognitiveservices.language.luis.authoring import LUISAuthoringClient\n",
    "from azure.cognitiveservices.language.luis.authoring.models import ApplicationCreateObject\n",
    "from azure.cognitiveservices.language.luis.runtime import LUISRuntimeClient\n",
    "from msrest.authentication import CognitiveServicesCredentials\n",
    "from functools import reduce\n",
    "\n",
    "\n",
    "\n",
    "import json, time, uuid\n",
    "import requests\n",
    "import http.client, urllib.request, urllib.parse, urllib.error, base64\n"
   ]
  },
  {
   "cell_type": "code",
   "execution_count": 2,
   "id": "dcbf61f1",
   "metadata": {},
   "outputs": [],
   "source": [
    "def load_file(file_name):\n",
    "    with open(file_name) as json_file:\n",
    "        file = json.load(json_file)\n",
    "    return file"
   ]
  },
  {
   "cell_type": "code",
   "execution_count": 14,
   "id": "e96c79dd",
   "metadata": {},
   "outputs": [
    {
     "data": {
      "text/plain": [
       "[{'text': 'santiago to burlington, go!',\n",
       "  'intent': 'BookFlight',\n",
       "  'entities': [{'startPos': 0, 'endPos': 7, 'entity': 'Departure'},\n",
       "   {'startPos': 12, 'endPos': 21, 'entity': 'Destination'}]},\n",
       " {'text': 'Hello, there!', 'intent': 'BookFlight', 'entities': []},\n",
       " {'text': 'get me out of berlin',\n",
       "  'intent': 'BookFlight',\n",
       "  'entities': [{'startPos': 14, 'endPos': 19, 'entity': 'Departure'}]},\n",
       " {'text': 'Hi there', 'intent': 'BookFlight', 'entities': []},\n",
       " {'text': 'Just looking into vacations departing Phili. Where could I go for under 1200?',\n",
       "  'intent': 'BookFlight',\n",
       "  'entities': [{'startPos': 38, 'endPos': 42, 'entity': 'Departure'}]}]"
      ]
     },
     "execution_count": 14,
     "metadata": {},
     "output_type": "execute_result"
    }
   ],
   "source": [
    "data[:5]"
   ]
  },
  {
   "cell_type": "code",
   "execution_count": 3,
   "id": "4a4421c5",
   "metadata": {},
   "outputs": [],
   "source": [
    "data = load_file(\"sample_test.json\")"
   ]
  },
  {
   "cell_type": "code",
   "execution_count": null,
   "id": "2417b298",
   "metadata": {},
   "outputs": [],
   "source": [
    "https://p10luisresource.cognitiveservices.azure.com/luis/prediction/v3.0/apps/a758d1e9-4c15-4c0d-bd71-76976c106de8/slots/production/predict?verbose=true&show-all-intents=true&log=true&subscription-key=5fc4ccbb7dc04aa094934613afb5f55f&query=YOUR_QUERY_HERE"
   ]
  },
  {
   "cell_type": "code",
   "execution_count": 7,
   "id": "1d44d252",
   "metadata": {},
   "outputs": [],
   "source": [
    "appId =  \"af053a5d-6c77-4755-90a2-590d1044c0e6\"\n",
    "predictionKey = \"5fc4ccbb7dc04aa094934613afb5f55f\"\n",
    "predictionEndpoint = \"https://p10luisresource.cognitiveservices.azure.com/\"\n",
    "#https://p10luisresource.cognitiveservices.azure.com/luis/prediction/v3.0/apps/a758d1e9-4c15-4c0d-bd71-76976c106de8/slots/production/predict?verbose=true&show-all-intents=true&log=true&subscription-key=5fc4ccbb7dc04aa094934613afb5f55f&query=YOUR_QUERY_HERE"
   ]
  },
  {
   "cell_type": "code",
   "execution_count": 8,
   "id": "1e694970",
   "metadata": {},
   "outputs": [],
   "source": [
    "def test_luis_REST_APIs( appId, predictionKey, predictionEndpoint, query):\n",
    "\t#\n",
    "\t# This quickstart shows how to add utterances to a LUIS model using the REST APIs.\n",
    "\t#\n",
    "\n",
    "\ttry:\n",
    "\t\t#data = get_examples(\"../data/train.json\")\t\n",
    "\t\theaders = {'Ocp-Apim-Subscription-Key': predictionKey}\n",
    "\t\tapp_version = \"v3.0\"\n",
    "\t\t# The URL parameters to use in this REST call.\n",
    "\t\tparams ={\n",
    "\t\t\t#'timezoneOffset': '0',\n",
    "\t\t\t'verbose': 'true',\n",
    "\t\t\t'show-all-intents': 'true',\n",
    "\t\t\t#'spellCheck': 'false',\n",
    "\t\t\t#'staging': 'false'\n",
    "\t\t}\n",
    "#\t\tpredictionRequest = { \"query\" : \" Book a flight from Paris to New-York on March 18, 2022\" }\n",
    "\t\tpredictionRequest = { \"query\" : query }\n",
    "\n",
    "\t\t# Make the REST call to initiate a training session.\n",
    "\n",
    "\t\tpredictionResponse = requests.post(f'{predictionEndpoint}luis/prediction/v3.0/apps/a758d1e9-4c15-4c0d-bd71-76976c106de8/slots/production/predict', \n",
    "\t\theaders=headers, params=params, data= json.dumps(predictionRequest))\t\n",
    "\n",
    "\t\t# Display the results on the console.\n",
    "\t\t#print('Request testing status:')\n",
    "\t\treturn (predictionResponse.json())\n",
    "\texcept Exception as e:\n",
    "\t\t    # Display the error string.\n",
    "\t\t\tprint(f'{e}')"
   ]
  },
  {
   "cell_type": "code",
   "execution_count": 9,
   "id": "61a045fc",
   "metadata": {},
   "outputs": [],
   "source": [
    "#utterance\n",
    "query = data[5]['text']"
   ]
  },
  {
   "cell_type": "code",
   "execution_count": 50,
   "id": "fe690e74",
   "metadata": {},
   "outputs": [],
   "source": [
    "reply = test_luis_REST_APIs(appId, predictionKey, predictionEndpoint, query)"
   ]
  },
  {
   "cell_type": "code",
   "execution_count": 52,
   "id": "9c160c84",
   "metadata": {},
   "outputs": [
    {
     "data": {
      "text/plain": [
       "{'Destination': ['Madrid'],\n",
       " 'datetimeV2': [{'type': 'daterange',\n",
       "   'values': [{'timex': '2022-04',\n",
       "     'resolution': [{'start': '2022-04-01', 'end': '2022-05-01'}]}]}],\n",
       " 'Departure': ['Las'],\n",
       " 'geographyV2': [{'value': 'Las Vegas', 'type': 'city'}],\n",
       " '$instance': {'Destination': [{'type': 'Destination',\n",
       "    'text': 'Madrid',\n",
       "    'startIndex': 26,\n",
       "    'length': 6,\n",
       "    'score': 0.7993344,\n",
       "    'modelTypeId': 1,\n",
       "    'modelType': 'Entity Extractor',\n",
       "    'recognitionSources': ['model']}],\n",
       "  'datetimeV2': [{'type': 'builtin.datetimeV2.daterange',\n",
       "    'text': 'next month',\n",
       "    'startIndex': 179,\n",
       "    'length': 10,\n",
       "    'modelTypeId': 2,\n",
       "    'modelType': 'Prebuilt Entity Extractor',\n",
       "    'recognitionSources': ['model']}],\n",
       "  'Departure': [{'type': 'Departure',\n",
       "    'text': 'Las',\n",
       "    'startIndex': 260,\n",
       "    'length': 3,\n",
       "    'score': 0.50657654,\n",
       "    'modelTypeId': 1,\n",
       "    'modelType': 'Entity Extractor',\n",
       "    'recognitionSources': ['model']}],\n",
       "  'geographyV2': [{'type': 'builtin.geographyV2.city',\n",
       "    'text': 'Las Vegas',\n",
       "    'startIndex': 260,\n",
       "    'length': 9,\n",
       "    'modelTypeId': 2,\n",
       "    'modelType': 'Prebuilt Entity Extractor',\n",
       "    'recognitionSources': ['model']}]}}"
      ]
     },
     "execution_count": 52,
     "metadata": {},
     "output_type": "execute_result"
    }
   ],
   "source": [
    "test_luis_REST_APIs(appId, predictionKey, predictionEndpoint, query)[\"prediction\"][\"entities\"]"
   ]
  },
  {
   "cell_type": "code",
   "execution_count": 11,
   "id": "90fc45af",
   "metadata": {},
   "outputs": [
    {
     "name": "stdout",
     "output_type": "stream",
     "text": [
      "BookFlight\n"
     ]
    }
   ],
   "source": [
    "prediction_topIntent = reply[\"prediction\"][\"topIntent\"]\n",
    "print(prediction_topIntent)"
   ]
  },
  {
   "cell_type": "code",
   "execution_count": 12,
   "id": "fc7cbce9",
   "metadata": {},
   "outputs": [],
   "source": [
    "prediction_entities = reply[\"prediction\"][\"entities\"]"
   ]
  },
  {
   "cell_type": "code",
   "execution_count": 13,
   "id": "c916dd1a",
   "metadata": {},
   "outputs": [
    {
     "name": "stdout",
     "output_type": "stream",
     "text": [
      "5\n",
      "Destination\n",
      "datetimeV2\n",
      "Departure\n",
      "geographyV2\n",
      "$instance\n"
     ]
    }
   ],
   "source": [
    "print(len(prediction_entities))\n",
    "for entity in prediction_entities:\n",
    "    print (entity)"
   ]
  },
  {
   "cell_type": "code",
   "execution_count": 148,
   "id": "83d813a0",
   "metadata": {},
   "outputs": [],
   "source": [
    "accuracy=[]"
   ]
  },
  {
   "cell_type": "code",
   "execution_count": 16,
   "id": "553d696f",
   "metadata": {},
   "outputs": [],
   "source": [
    "#utterance\n",
    "utterance = data[5]"
   ]
  },
  {
   "cell_type": "code",
   "execution_count": 17,
   "id": "23256a99",
   "metadata": {},
   "outputs": [
    {
     "name": "stdout",
     "output_type": "stream",
     "text": [
      "Departure\n",
      "Destination\n"
     ]
    }
   ],
   "source": [
    "#_________________Entities Extraction for Test\n",
    "query = utterance[\"text\"]\n",
    "test_Departure = None\n",
    "test_Destination = None\n",
    "test_Departure_date = None\n",
    "test_Arrival_date = None\n",
    "test_Budget = None\n",
    "for entity in utterance['entities']:\n",
    "    print(entity['entity'])\n",
    "    if entity['entity'] == \"Departure\":\n",
    "        test_Departure = query[entity[\"startPos\"]:(entity[\"endPos\"]+1)] \n",
    "    if entity['entity'] == \"Destination\":\n",
    "        test_Destination = query[entity[\"startPos\"]:(entity[\"endPos\"]+1)]\n",
    "    if entity['entity'] == \"DepartureDate\":\n",
    "        test_Departure_date = query[entity[\"startPos\"]:(entity[\"endPos\"]+1)]\n",
    "    if entity['entity'] == \"ArrivalDate\":\n",
    "        test_Arrival_date = query[entity[\"startPos\"]:(entity[\"endPos\"]+1)]\n",
    "    if entity['entity'] == \"Budget\":\n",
    "        test_Budget = query[entity[\"startPos\"]:(entity[\"endPos\"]+1)]\n",
    "\n",
    "\n"
   ]
  },
  {
   "cell_type": "code",
   "execution_count": 19,
   "id": "381ac375",
   "metadata": {},
   "outputs": [
    {
     "name": "stdout",
     "output_type": "stream",
     "text": [
      "Las Vegas Madrid None None None\n"
     ]
    }
   ],
   "source": [
    "print(test_Departure, test_Destination, test_Departure_date, test_Arrival_date, test_Budget)"
   ]
  },
  {
   "cell_type": "code",
   "execution_count": 20,
   "id": "bb0681f2",
   "metadata": {},
   "outputs": [],
   "source": [
    "#_________________Entities Extraction after Prediction\n",
    "reply = test_luis_REST_APIs( appId, predictionKey, predictionEndpoint, query)\n",
    "#prediction_topIntent = reply[\"prediction\"][\"topIntent\"]\n",
    "prediction_entities = reply[\"prediction\"][\"entities\"]\n",
    "prediction_Departure = None\n",
    "prediction_Destination = None\n",
    "prediction_Departure_date = None\n",
    "prediction_Arrival_date = None\n",
    "prediction_Budget = None\n",
    "if len(prediction_entities)!=0:\n",
    "    if \"Departure\" in prediction_entities:\n",
    "        prediction_Departure = prediction_entities[\"Departure\"][0]\n",
    "    if \"Destination\" in prediction_entities:\n",
    "        prediction_Destination = prediction_entities[\"Destination\"][0]\n",
    "    if \"Departure Date\" in prediction_entities:\n",
    "        prediction_Departure_date= prediction_entities[\"DepartureDate\"][0]\n",
    "    if \"Arrival Date\" in prediction_entities:\n",
    "        prediction_Arrival_date = prediction_entities[\"ArrivalDate\"][0]\n",
    "    if \"Budget\" in prediction_entities:\n",
    "        prediction_Budget = prediction_entities[\"Budget\"][0]"
   ]
  },
  {
   "cell_type": "code",
   "execution_count": 21,
   "id": "cc0e6c7f",
   "metadata": {},
   "outputs": [
    {
     "name": "stdout",
     "output_type": "stream",
     "text": [
      "Las Madrid None None None\n"
     ]
    }
   ],
   "source": [
    "print(prediction_Departure, prediction_Destination, prediction_Departure_date, prediction_Arrival_date, prediction_Budget)"
   ]
  },
  {
   "cell_type": "code",
   "execution_count": 24,
   "id": "9971732d",
   "metadata": {},
   "outputs": [],
   "source": [
    "#--------Calcul d'accuracy à chaque utterance_____#\n",
    "\n",
    "# Departure| \"Destination \\ \"Departure Date \\ Arrival Date \\ Budget\n",
    "Departure, Destination, Departure_Date, Arrival_Date , Budget = 0,0,0,0,0\n",
    "if prediction_Departure == test_Departure and prediction_Departure!=None:\n",
    "    Departure=1\n",
    "if prediction_Destination == test_Destination and prediction_Destination!=None:\n",
    "    Destination=1\n",
    "if prediction_Departure_date == test_Departure_date and prediction_Departure_date!=None:\n",
    "    Departure_Date=1\n",
    "if prediction_Arrival_date == test_Arrival_date and prediction_Arrival_date!=None:\n",
    "    Arrival_Date=1\n",
    "if prediction_Budget == test_Budget and prediction_Budget!=None:\n",
    "    Budget=1\n",
    "z = [Departure, Destination, Departure_Date, Arrival_Date , Budget]\n",
    "accuracy.append(z)"
   ]
  },
  {
   "cell_type": "code",
   "execution_count": 57,
   "id": "6be8872f",
   "metadata": {},
   "outputs": [
    {
     "data": {
      "text/plain": [
       "'text'"
      ]
     },
     "execution_count": 57,
     "metadata": {},
     "output_type": "execute_result"
    }
   ],
   "source": [
    "utterance"
   ]
  },
  {
   "cell_type": "code",
   "execution_count": 92,
   "id": "568a6386",
   "metadata": {},
   "outputs": [
    {
     "name": "stdout",
     "output_type": "stream",
     "text": [
      "Nb request exceeds limit 'prediction'\n",
      "Nb request exceeds limit 'prediction'\n",
      "Nb request exceeds limit 'prediction'\n",
      "Nb request exceeds limit 'prediction'\n",
      "Nb request exceeds limit 'prediction'\n",
      "Nb request exceeds limit 'prediction'\n",
      "Nb request exceeds limit 'prediction'\n",
      "Nb request exceeds limit 'prediction'\n",
      "Nb request exceeds limit 'prediction'\n",
      "Nb request exceeds limit 'prediction'\n",
      "Nb request exceeds limit 'prediction'\n",
      "Nb request exceeds limit 'prediction'\n",
      "Nb request exceeds limit 'prediction'\n",
      "Nb request exceeds limit 'prediction'\n",
      "Nb request exceeds limit 'prediction'\n",
      "\n",
      "Accuracy Departure  22.857142857142858 \n",
      "Accuracy Destination  37.142857142857146 \n",
      "Accuracy Departure_Date  0.0 \n",
      "Accuracy Arrival_Date  2.857142857142857 \n",
      "Accuracy Budget  0.0\n"
     ]
    }
   ],
   "source": [
    "accuracy =[]\n",
    "for utterance in data:\n",
    "    \n",
    "    #_________________Entities Extraction for Test\n",
    "    query = utterance[\"text\"]\n",
    "    test_Departure = None\n",
    "    test_Destination = None\n",
    "    test_Departure_date = None\n",
    "    test_Arrival_date = None\n",
    "    test_Budget = None\n",
    "    for entity in utterance['entities']:\n",
    "#        print(entity['entity'])\n",
    "        if entity['entity'] == \"Departure\":\n",
    "            test_Departure = query[entity[\"startPos\"]:(entity[\"endPos\"]+1)] \n",
    "        if entity['entity'] == \"Destination\":\n",
    "            test_Destination = query[entity[\"startPos\"]:(entity[\"endPos\"]+1)]\n",
    "        if entity['entity'] == \"Departure Date\":\n",
    "            test_Departure_date = query[entity[\"startPos\"]:(entity[\"endPos\"]+1)]\n",
    "        if entity['entity'] == \"Arrival Date\":\n",
    "            test_Arrival_date = query[entity[\"startPos\"]:(entity[\"endPos\"]+1)]\n",
    "        if entity['entity'] == \"Budget\":\n",
    "            test_Budget = query[entity[\"startPos\"]:(entity[\"endPos\"]+1)]\n",
    "            \n",
    "\n",
    "    #_________________Entities Extraction after Prediction\n",
    "    reply = test_luis_REST_APIs( appId, predictionKey, predictionEndpoint, query)\n",
    "    try :\n",
    "        #prediction_topIntent = reply[\"prediction\"][\"topIntent\"]\n",
    "        prediction_entities = reply[\"prediction\"][\"entities\"]\n",
    "        prediction_Departure = None\n",
    "        prediction_Destination = None\n",
    "        prediction_Departure_date = None\n",
    "        prediction_Arrival_date = None\n",
    "        prediction_Budget = None\n",
    "        if len(prediction_entities)!=0:\n",
    "            if \"Departure\" in prediction_entities:\n",
    "                prediction_Departure = prediction_entities[\"Departure\"][0]\n",
    "            if \"Destination\" in prediction_entities:\n",
    "                prediction_Destination = prediction_entities[\"Destination\"][0]\n",
    "            if \"Departure Date\" in prediction_entities:\n",
    "                prediction_Departure_date= prediction_entities[\"Departure Date\"][0]\n",
    "            if \"Arrival Date\" in prediction_entities:\n",
    "                prediction_Arrival_date = prediction_entities[\"Arrival Date\"][0]\n",
    "#            if \"Budget\" in prediction_entities:\n",
    "#                prediction_Budget = prediction_entities[\"Budget\"][0]\n",
    "            if \"money\" in prediction_entities:\n",
    "                prediction_Budget = prediction_entities[\"money\"][0]\n",
    "                \n",
    "        #--------Calcul d'accuracy à chaque utterance_____#\n",
    "\n",
    "        # Departure| \"Destination \\ \"Departure Date \\ Arrival Date \\ Budget\n",
    "        Departure, Destination, Departure_Date, Arrival_Date , Budget = 0,0,0,0,0\n",
    "        if prediction_Departure == test_Departure and prediction_Departure!=None:\n",
    "            Departure=1\n",
    "        if prediction_Destination == test_Destination and prediction_Destination!=None:\n",
    "            Destination=1\n",
    "        if prediction_Departure_date == test_Departure_date and prediction_Departure_date!=None:\n",
    "            Departure_Date=1\n",
    "        if prediction_Arrival_date == test_Arrival_date and prediction_Arrival_date!=None:\n",
    "            Arrival_Date=1\n",
    "        if prediction_Budget == test_Budget and prediction_Budget!=None:\n",
    "            Budget=1\n",
    "        z = Departure, Destination, Departure_Date, Arrival_Date , Budget\n",
    "        accuracy.append(z)\n",
    "        nb +=1\n",
    "    except Exception as e:\n",
    "        print(\"Nb request exceeds limit\",e)\n",
    "\n",
    "\n",
    "#print(\"accuracy : \", accuracy)    \n",
    "performance = np.mean(accuracy, axis=0)*100\n",
    "print(\"\\nAccuracy Departure \", performance[0],\"\\nAccuracy Destination \", performance[1], \n",
    "      \"\\nAccuracy Departure_Date \", performance[2],\"\\nAccuracy Arrival_Date \", performance[3],\"\\nAccuracy Budget \", performance[4])\n",
    "\n",
    "\n"
   ]
  },
  {
   "cell_type": "code",
   "execution_count": 96,
   "id": "ce730ae9",
   "metadata": {},
   "outputs": [
    {
     "name": "stdout",
     "output_type": "stream",
     "text": [
      "Nb request exceeds limit 'prediction'\n",
      "Nb request exceeds limit 'prediction'\n",
      "Nb request exceeds limit 'prediction'\n",
      "Nb request exceeds limit 'prediction'\n",
      "Nb request exceeds limit 'prediction'\n",
      "Nb request exceeds limit 'prediction'\n",
      "Nb request exceeds limit 'prediction'\n",
      "Nb request exceeds limit 'prediction'\n",
      "Nb request exceeds limit 'prediction'\n",
      "Nb request exceeds limit 'prediction'\n",
      "Nb request exceeds limit 'prediction'\n",
      "Nb request exceeds limit 'prediction'\n",
      "Nb request exceeds limit 'prediction'\n",
      "Nb request exceeds limit 'prediction'\n",
      "Nb request exceeds limit 'prediction'\n",
      "\n",
      "Accuracy Departure  32.25806451612903 \n",
      "Accuracy Destination  37.93103448275862 \n",
      "Accuracy Departure_Date  14.285714285714286 \n",
      "Accuracy Arrival_Date  42.857142857142854 \n",
      "Accuracy Budget  nan\n"
     ]
    },
    {
     "name": "stderr",
     "output_type": "stream",
     "text": [
      "/var/folders/c1/vyhtdcy56rj1f2m39j9m8z9w0000gn/T/ipykernel_1478/2094386283.py:79: RuntimeWarning: invalid value encountered in long_scalars\n",
      "  performance =[values[0]/nb1, values[1]/nb2, values[2]/nb3, values[3]/nb4, values[4]/nb5]\n"
     ]
    }
   ],
   "source": [
    "accuracy =[]\n",
    "nb1,nb2,nb3,nb4,nb5=0,0,0,0,0\n",
    "for utterance in data:\n",
    "    \n",
    "    #_________________Entities Extraction for Test\n",
    "    query = utterance[\"text\"]\n",
    "    test_Departure = None\n",
    "    test_Destination = None\n",
    "    test_Departure_date = None\n",
    "    test_Arrival_date = None\n",
    "    test_Budget = None\n",
    "    for entity in utterance['entities']:\n",
    "#        print(entity['entity'])\n",
    "        if entity['entity'] == \"Departure\":\n",
    "            test_Departure = query[entity[\"startPos\"]:(entity[\"endPos\"]+1)] \n",
    "            nb1 +=1\n",
    "        if entity['entity'] == \"Destination\":\n",
    "            test_Destination = query[entity[\"startPos\"]:(entity[\"endPos\"]+1)]\n",
    "            nb2 +=1\n",
    "        if entity['entity'] == \"Departure Date\":\n",
    "            test_Departure_date = query[entity[\"startPos\"]:(entity[\"endPos\"]+1)]\n",
    "            nb3 +=1\n",
    "        if entity['entity'] == \"Arrival Date\":\n",
    "            test_Arrival_date = query[entity[\"startPos\"]:(entity[\"endPos\"]+1)]\n",
    "            nb4 +=1\n",
    "        if entity['entity'] == \"Budget\":\n",
    "            test_Budget = query[entity[\"startPos\"]:(entity[\"endPos\"]+1)]\n",
    "            nb5 +=1\n",
    "            \n",
    "\n",
    "    #_________________Entities Extraction after Prediction\n",
    "    reply = test_luis_REST_APIs( appId, predictionKey, predictionEndpoint, query)\n",
    "    try :\n",
    "        #prediction_topIntent = reply[\"prediction\"][\"topIntent\"]\n",
    "        prediction_entities = reply[\"prediction\"][\"entities\"]\n",
    "        prediction_Departure = None\n",
    "        prediction_Destination = None\n",
    "        prediction_Departure_date = None\n",
    "        prediction_Arrival_date = None\n",
    "        prediction_Budget = None\n",
    "        if len(prediction_entities)!=0:\n",
    "            if \"Departure\" in prediction_entities:\n",
    "                prediction_Departure = prediction_entities[\"Departure\"][0]\n",
    "            if \"Destination\" in prediction_entities:\n",
    "                prediction_Destination = prediction_entities[\"Destination\"][0]\n",
    "            if \"Departure Date\" in prediction_entities:\n",
    "                prediction_Departure_date= prediction_entities[\"Departure Date\"][0]\n",
    "            if \"Arrival Date\" in prediction_entities:\n",
    "                prediction_Arrival_date = prediction_entities[\"Arrival Date\"][0]\n",
    "#            if \"Budget\" in prediction_entities:\n",
    "#                prediction_Budget = prediction_entities[\"Budget\"][0]\n",
    "#            if \"money\" in prediction_entities:\n",
    "            if \"builtin.currency\" in prediction_entities:\n",
    "                prediction_Budget = prediction_entities[\"money\"][0]\n",
    "                \n",
    "        #--------Calcul d'accuracy à chaque utterance_____#\n",
    "\n",
    "        # Departure| \"Destination \\ \"Departure Date \\ Arrival Date \\ Budget\n",
    "        Departure, Destination, Departure_Date, Arrival_Date , Budget = 0,0,0,0,0\n",
    "        if prediction_Departure == test_Departure and prediction_Departure!=None:\n",
    "            Departure=1\n",
    "        if prediction_Destination == test_Destination and prediction_Destination!=None:\n",
    "            Destination=1\n",
    "        if prediction_Departure_date == test_Departure_date and prediction_Departure_date!=None:\n",
    "            Departure_Date=1\n",
    "        if prediction_Arrival_date == test_Arrival_date and prediction_Arrival_date!=None:\n",
    "            Arrival_Date=1\n",
    "        if prediction_Budget == test_Budget and prediction_Budget!=None:\n",
    "            Budget=1\n",
    "        z = Departure, Destination, Departure_Date, Arrival_Date , Budget\n",
    "        accuracy.append(z)\n",
    "    except Exception as e:\n",
    "        print(\"Nb request exceeds limit\",e)\n",
    "\n",
    "\n",
    "#print(\"accuracy : \", accuracy)    \n",
    "values = np.sum(accuracy, axis=0)*100\n",
    "nb =[nb1, nb2, nb3, nb4, nb5]\n",
    "#performance = [[m/n for m, n in zip(values, nb)]]\n",
    "performance =[values[0]/nb1, values[1]/nb2, values[2]/nb3, values[3]/nb4, values[4]/nb5]\n",
    "print(\"\\nAccuracy Departure \", performance[0],\"\\nAccuracy Destination \", performance[1], \n",
    "      \"\\nAccuracy Departure_Date \", performance[2],\"\\nAccuracy Arrival_Date \", performance[3],\"\\nAccuracy Budget \", performance[4])\n",
    "\n",
    "\n",
    "\n"
   ]
  },
  {
   "cell_type": "code",
   "execution_count": null,
   "id": "e24f452c",
   "metadata": {},
   "outputs": [],
   "source": []
  },
  {
   "cell_type": "code",
   "execution_count": null,
   "id": "12be37d0",
   "metadata": {},
   "outputs": [],
   "source": []
  }
 ],
 "metadata": {
  "kernelspec": {
   "display_name": "Python 3 (ipykernel)",
   "language": "python",
   "name": "python3"
  },
  "language_info": {
   "codemirror_mode": {
    "name": "ipython",
    "version": 3
   },
   "file_extension": ".py",
   "mimetype": "text/x-python",
   "name": "python",
   "nbconvert_exporter": "python",
   "pygments_lexer": "ipython3",
   "version": "3.9.7"
  }
 },
 "nbformat": 4,
 "nbformat_minor": 5
}
