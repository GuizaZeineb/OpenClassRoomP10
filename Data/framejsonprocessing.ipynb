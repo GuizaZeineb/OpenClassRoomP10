{
 "cells": [
  {
   "cell_type": "code",
   "execution_count": 5,
   "id": "cc4dc60a",
   "metadata": {},
   "outputs": [],
   "source": [
    "import argparse\n",
    "import time\n",
    "import os\n",
    "import json\n",
    "import re"
   ]
  },
  {
   "cell_type": "code",
   "execution_count": 6,
   "id": "4116b802",
   "metadata": {},
   "outputs": [],
   "source": [
    "def load_file(file_name):\n",
    "    with open(file_name) as json_file:\n",
    "        file = json.load(json_file)\n",
    "    return file"
   ]
  },
  {
   "cell_type": "code",
   "execution_count": 7,
   "id": "faa8841e",
   "metadata": {},
   "outputs": [],
   "source": [
    "data = load_file(\"frames.json\")"
   ]
  },
  {
   "cell_type": "code",
   "execution_count": 8,
   "id": "76f7bffa",
   "metadata": {},
   "outputs": [
    {
     "name": "stdout",
     "output_type": "stream",
     "text": [
      "nb_utterences :   1369\n"
     ]
    }
   ],
   "source": [
    "print('nb_utterences :  ',len(data))"
   ]
  },
  {
   "cell_type": "markdown",
   "id": "b0e7447f",
   "metadata": {},
   "source": [
    "### 1) Text and entities"
   ]
  },
  {
   "cell_type": "code",
   "execution_count": 9,
   "id": "23ef64b8",
   "metadata": {},
   "outputs": [
    {
     "name": "stdout",
     "output_type": "stream",
     "text": [
      "Utterences fields :   dict_keys(['user_id', 'turns', 'wizard_id', 'id', 'labels'])\n"
     ]
    }
   ],
   "source": [
    "print('Utterences fields :  ', data[0].keys())"
   ]
  },
  {
   "cell_type": "code",
   "execution_count": 10,
   "id": "1f99dbdc",
   "metadata": {},
   "outputs": [
    {
     "data": {
      "text/plain": [
       "{'userSurveyRating': 4.0, 'wizardSurveyTaskSuccessful': True}"
      ]
     },
     "execution_count": 10,
     "metadata": {},
     "output_type": "execute_result"
    }
   ],
   "source": [
    "data[0]['labels']"
   ]
  },
  {
   "cell_type": "code",
   "execution_count": 11,
   "id": "da37b0b6",
   "metadata": {},
   "outputs": [
    {
     "data": {
      "text/plain": [
       "'e2c0fc6c-2134-4891-8353-ef16d8412c9a'"
      ]
     },
     "execution_count": 11,
     "metadata": {},
     "output_type": "execute_result"
    }
   ],
   "source": [
    "data[0]['id']"
   ]
  },
  {
   "cell_type": "code",
   "execution_count": 12,
   "id": "601a3bfc",
   "metadata": {},
   "outputs": [
    {
     "data": {
      "text/plain": [
       "'U21DKG18C'"
      ]
     },
     "execution_count": 12,
     "metadata": {},
     "output_type": "execute_result"
    }
   ],
   "source": [
    "data[0]['wizard_id']"
   ]
  },
  {
   "cell_type": "code",
   "execution_count": 13,
   "id": "5958ec80",
   "metadata": {},
   "outputs": [
    {
     "data": {
      "text/plain": [
       "'U22HTHYNP'"
      ]
     },
     "execution_count": 13,
     "metadata": {},
     "output_type": "execute_result"
    }
   ],
   "source": [
    "data[0]['user_id']"
   ]
  },
  {
   "cell_type": "code",
   "execution_count": 14,
   "id": "38122b60",
   "metadata": {},
   "outputs": [
    {
     "data": {
      "text/plain": [
       "dict_keys(['text', 'labels', 'author', 'timestamp'])"
      ]
     },
     "execution_count": 14,
     "metadata": {},
     "output_type": "execute_result"
    }
   ],
   "source": [
    "data[0]['turns'][0].keys()"
   ]
  },
  {
   "cell_type": "code",
   "execution_count": 15,
   "id": "7f662d18",
   "metadata": {},
   "outputs": [
    {
     "data": {
      "text/plain": [
       "dict_keys(['acts', 'acts_without_refs', 'active_frame', 'frames'])"
      ]
     },
     "execution_count": 15,
     "metadata": {},
     "output_type": "execute_result"
    }
   ],
   "source": [
    "data[0]['turns'][0]['labels'].keys()"
   ]
  },
  {
   "cell_type": "code",
   "execution_count": 16,
   "id": "e5bbbd14",
   "metadata": {},
   "outputs": [
    {
     "data": {
      "text/plain": [
       "\"I'd like to book a trip to Atlantis from Caprica on Saturday, August 13, 2016 for 8 adults. I have a tight budget of 1700.\""
      ]
     },
     "execution_count": 16,
     "metadata": {},
     "output_type": "execute_result"
    }
   ],
   "source": [
    "data[0]['turns'][0]['text']"
   ]
  },
  {
   "cell_type": "code",
   "execution_count": 17,
   "id": "d4163118",
   "metadata": {},
   "outputs": [
    {
     "data": {
      "text/plain": [
       "{'text': \"I'd like to book a trip to Atlantis from Caprica on Saturday, August 13, 2016 for 8 adults. I have a tight budget of 1700.\",\n",
       " 'labels': {'acts': [{'args': [{'val': 'book', 'key': 'intent'}],\n",
       "    'name': 'inform'},\n",
       "   {'args': [{'val': 'Atlantis', 'key': 'dst_city'},\n",
       "     {'val': 'Caprica', 'key': 'or_city'},\n",
       "     {'val': 'Saturday, August 13, 2016', 'key': 'str_date'},\n",
       "     {'val': '8', 'key': 'n_adults'},\n",
       "     {'val': '1700', 'key': 'budget'}],\n",
       "    'name': 'inform'}],\n",
       "  'acts_without_refs': [{'args': [{'val': 'book', 'key': 'intent'}],\n",
       "    'name': 'inform'},\n",
       "   {'args': [{'val': 'Atlantis', 'key': 'dst_city'},\n",
       "     {'val': 'Caprica', 'key': 'or_city'},\n",
       "     {'val': 'Saturday, August 13, 2016', 'key': 'str_date'},\n",
       "     {'val': '8', 'key': 'n_adults'},\n",
       "     {'val': '1700', 'key': 'budget'}],\n",
       "    'name': 'inform'}],\n",
       "  'active_frame': 1,\n",
       "  'frames': [{'info': {'intent': [{'val': 'book', 'negated': False}],\n",
       "     'budget': [{'val': '1700.0', 'negated': False}],\n",
       "     'dst_city': [{'val': 'Atlantis', 'negated': False}],\n",
       "     'or_city': [{'val': 'Caprica', 'negated': False}],\n",
       "     'str_date': [{'val': 'august 13', 'negated': False}],\n",
       "     'n_adults': [{'val': '8', 'negated': False}]},\n",
       "    'frame_id': 1,\n",
       "    'requests': [],\n",
       "    'frame_parent_id': None,\n",
       "    'binary_questions': [],\n",
       "    'compare_requests': []}]},\n",
       " 'author': 'user',\n",
       " 'timestamp': 1471272019730.0}"
      ]
     },
     "execution_count": 17,
     "metadata": {},
     "output_type": "execute_result"
    }
   ],
   "source": [
    "data[0]['turns'][0]"
   ]
  },
  {
   "cell_type": "code",
   "execution_count": 18,
   "id": "0f816a01",
   "metadata": {},
   "outputs": [
    {
     "data": {
      "text/plain": [
       "[{'info': {'intent': [{'val': 'book', 'negated': False}],\n",
       "   'budget': [{'val': '1700.0', 'negated': False}],\n",
       "   'dst_city': [{'val': 'Atlantis', 'negated': False}],\n",
       "   'or_city': [{'val': 'Caprica', 'negated': False}],\n",
       "   'str_date': [{'val': 'august 13', 'negated': False}],\n",
       "   'n_adults': [{'val': '8', 'negated': False}]},\n",
       "  'frame_id': 1,\n",
       "  'requests': [],\n",
       "  'frame_parent_id': None,\n",
       "  'binary_questions': [],\n",
       "  'compare_requests': []}]"
      ]
     },
     "execution_count": 18,
     "metadata": {},
     "output_type": "execute_result"
    }
   ],
   "source": [
    "data[0]['turns'][0]['labels']['frames']"
   ]
  },
  {
   "cell_type": "code",
   "execution_count": 19,
   "id": "2e4e1cc3",
   "metadata": {},
   "outputs": [
    {
     "data": {
      "text/plain": [
       "[{'info': {'intent': [{'val': 'book', 'negated': False}],\n",
       "   'budget': [{'val': '1700.0', 'negated': False}],\n",
       "   'dst_city': [{'val': 'Atlantis', 'negated': False}],\n",
       "   'or_city': [{'val': 'Caprica', 'negated': False}],\n",
       "   'str_date': [{'val': 'august 13', 'negated': False}],\n",
       "   'n_adults': [{'val': '8', 'negated': False}]},\n",
       "  'frame_id': 1,\n",
       "  'requests': [],\n",
       "  'frame_parent_id': None,\n",
       "  'binary_questions': [],\n",
       "  'compare_requests': []}]"
      ]
     },
     "execution_count": 19,
     "metadata": {},
     "output_type": "execute_result"
    }
   ],
   "source": [
    "data[0]['turns'][0]['labels']['frames']"
   ]
  },
  {
   "cell_type": "code",
   "execution_count": 20,
   "id": "8e30f773",
   "metadata": {},
   "outputs": [
    {
     "data": {
      "text/plain": [
       "{'intent': [{'val': 'book', 'negated': False}],\n",
       " 'budget': [{'val': '1700.0', 'negated': False}],\n",
       " 'dst_city': [{'val': 'Atlantis', 'negated': False}],\n",
       " 'or_city': [{'val': 'Caprica', 'negated': False}],\n",
       " 'str_date': [{'val': 'august 13', 'negated': False}],\n",
       " 'n_adults': [{'val': '8', 'negated': False}]}"
      ]
     },
     "execution_count": 20,
     "metadata": {},
     "output_type": "execute_result"
    }
   ],
   "source": [
    "data[0]['turns'][0][\"labels\"][\"frames\"][0][\"info\"]\n"
   ]
  },
  {
   "cell_type": "code",
   "execution_count": 21,
   "id": "bd333da9",
   "metadata": {},
   "outputs": [
    {
     "data": {
      "text/plain": [
       "{'info': {'intent': [{'val': 'book', 'negated': False}],\n",
       "  'budget': [{'val': '1700.0', 'negated': False}],\n",
       "  'dst_city': [{'val': 'Atlantis', 'negated': False}],\n",
       "  'or_city': [{'val': 'Caprica', 'negated': False}],\n",
       "  'str_date': [{'val': 'august 13', 'negated': False}],\n",
       "  'n_adults': [{'val': '8', 'negated': False}]},\n",
       " 'frame_id': 1,\n",
       " 'requests': [],\n",
       " 'frame_parent_id': None,\n",
       " 'binary_questions': [],\n",
       " 'compare_requests': []}"
      ]
     },
     "execution_count": 21,
     "metadata": {},
     "output_type": "execute_result"
    }
   ],
   "source": [
    "data[0]['turns'][0][\"labels\"][\"frames\"][0]"
   ]
  },
  {
   "cell_type": "code",
   "execution_count": 22,
   "id": "2455bf5a",
   "metadata": {},
   "outputs": [
    {
     "data": {
      "text/plain": [
       "[{'val': 'Caprica', 'negated': False}]"
      ]
     },
     "execution_count": 22,
     "metadata": {},
     "output_type": "execute_result"
    }
   ],
   "source": [
    "data[0]['turns'][0][\"labels\"][\"frames\"][0][\"info\"]['or_city']"
   ]
  },
  {
   "cell_type": "code",
   "execution_count": 23,
   "id": "020eed11",
   "metadata": {},
   "outputs": [
    {
     "data": {
      "text/plain": [
       "'Atlantis'"
      ]
     },
     "execution_count": 23,
     "metadata": {},
     "output_type": "execute_result"
    }
   ],
   "source": [
    "data[0]['turns'][0][\"labels\"][\"frames\"][0][\"info\"]['dst_city'][0]['val']"
   ]
  },
  {
   "cell_type": "code",
   "execution_count": 24,
   "id": "42248361",
   "metadata": {},
   "outputs": [
    {
     "data": {
      "text/plain": [
       "'1700.0'"
      ]
     },
     "execution_count": 24,
     "metadata": {},
     "output_type": "execute_result"
    }
   ],
   "source": [
    "data[0]['turns'][0][\"labels\"][\"frames\"][0][\"info\"]['budget'][0]['val']\n"
   ]
  },
  {
   "cell_type": "code",
   "execution_count": null,
   "id": "0f9a0bb8",
   "metadata": {},
   "outputs": [],
   "source": []
  },
  {
   "cell_type": "markdown",
   "id": "e66ccbd3",
   "metadata": {},
   "source": [
    "### 2) startCharIndex and endCharIndex"
   ]
  },
  {
   "cell_type": "code",
   "execution_count": 26,
   "id": "640503a9",
   "metadata": {},
   "outputs": [
    {
     "data": {
      "text/plain": [
       "True"
      ]
     },
     "execution_count": 26,
     "metadata": {},
     "output_type": "execute_result"
    }
   ],
   "source": [
    "'budget' in data[0]['turns'][0][\"labels\"][\"frames\"][0][\"info\"].keys()"
   ]
  },
  {
   "cell_type": "code",
   "execution_count": 27,
   "id": "6b139947",
   "metadata": {},
   "outputs": [
    {
     "data": {
      "text/plain": [
       "\"I'm looking for a trip to Gotham City leaving from Kakariko Village on Saturday, August 13, 2016. 3 adults for no more than $2400 USD.\""
      ]
     },
     "execution_count": 27,
     "metadata": {},
     "output_type": "execute_result"
    }
   ],
   "source": [
    "#text= data[4]['turns'][0]['text']\n",
    "text=\"I'm looking for a trip to Gotham City leaving from Kakariko Village on Saturday, August 13, 2016. 3 adults for no more than $2400 USD.\"\n",
    "text"
   ]
  },
  {
   "cell_type": "code",
   "execution_count": 28,
   "id": "003a591f",
   "metadata": {},
   "outputs": [],
   "source": [
    "word = data[4]['turns'][0][\"labels\"][\"frames\"][0][\"info\"]['budget'][0]['val']"
   ]
  },
  {
   "cell_type": "code",
   "execution_count": 29,
   "id": "c1c74c82",
   "metadata": {},
   "outputs": [
    {
     "data": {
      "text/plain": [
       "'2400.0'"
      ]
     },
     "execution_count": 29,
     "metadata": {},
     "output_type": "execute_result"
    }
   ],
   "source": [
    "word =\"2400.0\"\n",
    "word"
   ]
  },
  {
   "cell_type": "code",
   "execution_count": 30,
   "id": "f94043fa",
   "metadata": {},
   "outputs": [
    {
     "data": {
      "text/plain": [
       "[3]"
      ]
     },
     "execution_count": 30,
     "metadata": {},
     "output_type": "execute_result"
    }
   ],
   "source": [
    "#numbers = [int(temp)for temp in temp_string.split() if temp.isdigit()]\n",
    "[int(temp)for temp in text.split() if temp.isnumeric()]"
   ]
  },
  {
   "cell_type": "code",
   "execution_count": 31,
   "id": "6a4d5d0d",
   "metadata": {},
   "outputs": [
    {
     "data": {
      "text/plain": [
       "125"
      ]
     },
     "execution_count": 31,
     "metadata": {},
     "output_type": "execute_result"
    }
   ],
   "source": [
    "text.find(str(int(float(word))))"
   ]
  },
  {
   "cell_type": "code",
   "execution_count": 32,
   "id": "39492288",
   "metadata": {},
   "outputs": [
    {
     "data": {
      "text/plain": [
       "-1"
      ]
     },
     "execution_count": 32,
     "metadata": {},
     "output_type": "execute_result"
    }
   ],
   "source": [
    "text.find(word.replace('.', ','))"
   ]
  },
  {
   "cell_type": "code",
   "execution_count": 33,
   "id": "58ce7c22",
   "metadata": {},
   "outputs": [
    {
     "data": {
      "text/plain": [
       "[]"
      ]
     },
     "execution_count": 33,
     "metadata": {},
     "output_type": "execute_result"
    }
   ],
   "source": [
    "[float(s) for s in re.findall(r'\\d+\\.\\d+', text)]"
   ]
  },
  {
   "cell_type": "code",
   "execution_count": 34,
   "id": "84a16d12",
   "metadata": {},
   "outputs": [],
   "source": [
    "import re\n",
    "#z= [float(s) for s in re.findall(r'-?\\d+\\.?\\d*', text)]\n",
    "z= [float(s) for s in re.findall(r'\\d+\\.\\d+', text)]"
   ]
  },
  {
   "cell_type": "code",
   "execution_count": 35,
   "id": "5112545b",
   "metadata": {},
   "outputs": [
    {
     "data": {
      "text/plain": [
       "\"I'm looking for a trip to Gotham City leaving from Kakariko Village on Saturday, August 13, 2016. 3 adults for no more than $2400 USD.\""
      ]
     },
     "execution_count": 35,
     "metadata": {},
     "output_type": "execute_result"
    }
   ],
   "source": [
    "text"
   ]
  },
  {
   "cell_type": "code",
   "execution_count": 36,
   "id": "f05aa5fe",
   "metadata": {},
   "outputs": [
    {
     "data": {
      "text/plain": [
       "'2400.0'"
      ]
     },
     "execution_count": 36,
     "metadata": {},
     "output_type": "execute_result"
    }
   ],
   "source": [
    "word"
   ]
  },
  {
   "cell_type": "code",
   "execution_count": 37,
   "id": "cc73855b",
   "metadata": {},
   "outputs": [
    {
     "data": {
      "text/plain": [
       "False"
      ]
     },
     "execution_count": 37,
     "metadata": {},
     "output_type": "execute_result"
    }
   ],
   "source": [
    "word.isdigit()"
   ]
  },
  {
   "cell_type": "code",
   "execution_count": 38,
   "id": "9f06d8e7",
   "metadata": {},
   "outputs": [
    {
     "data": {
      "text/plain": [
       "False"
      ]
     },
     "execution_count": 38,
     "metadata": {},
     "output_type": "execute_result"
    }
   ],
   "source": [
    "isinstance(word, float)"
   ]
  },
  {
   "cell_type": "code",
   "execution_count": 39,
   "id": "cc193a40",
   "metadata": {},
   "outputs": [],
   "source": [
    "val='$MIN'"
   ]
  },
  {
   "cell_type": "code",
   "execution_count": 40,
   "id": "2a2d5869",
   "metadata": {},
   "outputs": [
    {
     "data": {
      "text/plain": [
       "False"
      ]
     },
     "execution_count": 40,
     "metadata": {},
     "output_type": "execute_result"
    }
   ],
   "source": [
    "#val.translate(None, '!@#$£¥€')\n",
    "val.isnumeric()"
   ]
  },
  {
   "cell_type": "code",
   "execution_count": 41,
   "id": "c73b0ad1",
   "metadata": {},
   "outputs": [
    {
     "data": {
      "text/plain": [
       "False"
      ]
     },
     "execution_count": 41,
     "metadata": {},
     "output_type": "execute_result"
    }
   ],
   "source": [
    "'21.3'.isnumeric()"
   ]
  },
  {
   "cell_type": "code",
   "execution_count": 495,
   "id": "2da5c419",
   "metadata": {},
   "outputs": [
    {
     "data": {
      "text/plain": [
       "'$MIN'"
      ]
     },
     "execution_count": 495,
     "metadata": {},
     "output_type": "execute_result"
    }
   ],
   "source": [
    "word"
   ]
  },
  {
   "cell_type": "code",
   "execution_count": 42,
   "id": "1f326f12",
   "metadata": {},
   "outputs": [],
   "source": [
    "def is_float_digit(n: str) -> bool:\n",
    "     try:\n",
    "         float(n)\n",
    "         return True\n",
    "     except ValueError:\n",
    "         return False"
   ]
  },
  {
   "cell_type": "code",
   "execution_count": 43,
   "id": "8a3ff5b9",
   "metadata": {},
   "outputs": [
    {
     "data": {
      "text/plain": [
       "True"
      ]
     },
     "execution_count": 43,
     "metadata": {},
     "output_type": "execute_result"
    }
   ],
   "source": [
    "is_float_digit(word)"
   ]
  },
  {
   "cell_type": "code",
   "execution_count": 44,
   "id": "54521689",
   "metadata": {},
   "outputs": [],
   "source": [
    "import re\n",
    "z= [float(s) for s in re.findall(r'-?\\d+\\.?\\d*', text)]\n",
    "word2=[int(x) for i,x in enumerate(z) if x == float(word)][0]"
   ]
  },
  {
   "cell_type": "markdown",
   "id": "dba67560",
   "metadata": {},
   "source": [
    "utterance = {'text': \"Hi, I'm leaving from Diagon Alley and going to Coruscant on a budget of $3400. The dates don't matter, but I cannot afford anything over my budget.\", 'intentName': 'BookFlight', 'entityLabels': [{'startCharIndex': 21, 'endCharIndex': 32, 'entityName': 'Departure'}, {'startCharIndex': 47, 'endCharIndex': 55, 'entityName': 'Destination'}, {'startCharIndex': -1, 'endCharIndex': 0, 'entityName': 'Departure Date'}, {'startCharIndex': -1, 'endCharIndex': 0, 'entityName': 'Arrival Date'}, {'startCharIndex': 73, 'endCharIndex': 76, 'entityName': 'Budget'}]}"
   ]
  },
  {
   "cell_type": "code",
   "execution_count": 6,
   "id": "fdc39022",
   "metadata": {},
   "outputs": [],
   "source": [
    "def is_float_digit(n: str) -> bool:\n",
    "     try:\n",
    "         float(n)\n",
    "         return True\n",
    "     except ValueError:\n",
    "         return False\n",
    "\n",
    "labeledExampleUtteranceWithMLEntity = []\n",
    "for index in range(len(data)):\n",
    "\n",
    "    utterance = {}\n",
    "    text = data[index]['turns'][0]['text']\n",
    "    intentName = \"BookFlight\"\n",
    "    if text :\n",
    "        utterance['text'] = text\n",
    "        utterance['intentName'] = intentName\n",
    "        utterance[\"entityLabels\"] = []\n",
    "\n",
    "\n",
    "        if 'or_city' in data[index]['turns'][0][\"labels\"][\"frames\"][0][\"info\"].keys() :\n",
    "            word = data[index]['turns'][0][\"labels\"][\"frames\"][0][\"info\"]['or_city'][0]['val']\n",
    "            if text.lower().find(word.lower()) !=-1 :\n",
    "                word_startCharIndex = text.lower().find(word.lower())\n",
    "                word_endCharIndex = word_startCharIndex+len(word)-1\n",
    "                utterance['entityLabels'].append({\"startCharIndex\": word_startCharIndex,\n",
    "                                                                \"endCharIndex\": word_endCharIndex,\n",
    "                                                                \"entityName\": \"Departure\"})\n",
    "    \n",
    "    \n",
    "        if 'dst_city' in data[index]['turns'][0][\"labels\"][\"frames\"][0][\"info\"].keys() :\n",
    "            word = data[index]['turns'][0][\"labels\"][\"frames\"][0][\"info\"]['dst_city'][0]['val']\n",
    "            if text.lower().find(word.lower()) !=-1 :\n",
    "                word_startCharIndex = text.lower().find(word.lower())\n",
    "                word_endCharIndex = word_startCharIndex+len(word)-1\n",
    "                utterance['entityLabels'].append({\"startCharIndex\": word_startCharIndex,\n",
    "                                                                    \"endCharIndex\": word_endCharIndex,\n",
    "                                                                    \"entityName\": \"Destination\"})    \n",
    "\n",
    "    \n",
    "    \n",
    "        if 'str_date' in data[index]['turns'][0][\"labels\"][\"frames\"][0][\"info\"].keys() :\n",
    "            word = data[index]['turns'][0][\"labels\"][\"frames\"][0][\"info\"]['str_date'][0]['val']\n",
    "            if text.lower().find(word.lower()) !=-1 :\n",
    "                word_startCharIndex = text.lower().find(word.lower())\n",
    "                word_endCharIndex = word_startCharIndex+len(word)-1\n",
    "                utterance['entityLabels'].append({\"startCharIndex\": word_startCharIndex,\n",
    "                                                                    \"endCharIndex\": word_endCharIndex,\n",
    "                                                                    \"entityName\": \"Departure Date\"})     \n",
    "\n",
    "        if 'end_date' in data[index]['turns'][0][\"labels\"][\"frames\"][0][\"info\"].keys() :\n",
    "            word = data[index]['turns'][0][\"labels\"][\"frames\"][0][\"info\"]['end_date'][0]['val']\n",
    "            if text.lower().find(word.lower()) !=-1 :\n",
    "                word_startCharIndex = text.lower().find(word.lower())\n",
    "                word_endCharIndex = word_startCharIndex+len(word)-1\n",
    "                utterance['entityLabels'].append({\"startCharIndex\": word_startCharIndex,\n",
    "                                                                    \"endCharIndex\": word_endCharIndex,\n",
    "                                                                    \"entityName\": \"Arrival Date\"})             \n",
    "    \n",
    "    \n",
    "        if 'budget' in data[index]['turns'][0][\"labels\"][\"frames\"][0][\"info\"].keys() :\n",
    "            word = data[index]['turns'][0][\"labels\"][\"frames\"][0][\"info\"]['budget'][0]['val']\n",
    "            #Done to check if the budget in the json is different from text because of float type\n",
    "            if text.find(word) ==-1 :\n",
    "                if text.find(word.replace('.', ',')) !=-1 :\n",
    "                    word = word.replace('.', ',')\n",
    "                elif (is_float_digit(word) ):\n",
    "#                    z = [float(s) for s in re.findall(r'-?\\d+\\.\\d*', text)]\n",
    "#                    if len(z) != 0 :\n",
    "#                        word =[int(x) for i,x in enumerate(z) if x == float(word)][0]\n",
    "#                        word = str(word)\n",
    "                    if (text.find(str(int(float(word)))) !=-1 ):\n",
    "                        word = str(int(float(word)))                \n",
    "            if text.find(word) !=-1 :\n",
    "                word_startCharIndex = text.find(word)\n",
    "                word_endCharIndex = word_startCharIndex+len(word)-1\n",
    "                utterance['entityLabels'].append({\"startCharIndex\": word_startCharIndex,\n",
    "                                                                \"endCharIndex\": word_endCharIndex,\n",
    "                                                                \"entityName\": \"Budget\"})   \n",
    "    \n",
    "    labeledExampleUtteranceWithMLEntity.append(utterance)\n",
    "        "
   ]
  },
  {
   "cell_type": "code",
   "execution_count": 45,
   "id": "cebf0627",
   "metadata": {},
   "outputs": [],
   "source": [
    "#____________________________New Work to make it understood by LUIS app.ai_______\n",
    "\n",
    "\n",
    "def is_float_digit(n: str) -> bool:\n",
    "     try:\n",
    "         float(n)\n",
    "         return True\n",
    "     except ValueError:\n",
    "         return False\n",
    "\n",
    "labeledExampleUtteranceWithMLEntity = []\n",
    "for index in range(len(data)):\n",
    "\n",
    "    utterance = {}\n",
    "    text = data[index]['turns'][0]['text']\n",
    "    intentName = \"BookFlight\"\n",
    "    if text :\n",
    "        utterance['text'] = text\n",
    "        utterance['intent'] = intentName\n",
    "        utterance[\"entities\"] = []\n",
    "\n",
    "\n",
    "        if 'or_city' in data[index]['turns'][0][\"labels\"][\"frames\"][0][\"info\"].keys() :\n",
    "            word = data[index]['turns'][0][\"labels\"][\"frames\"][0][\"info\"]['or_city'][0]['val']\n",
    "            if text.lower().find(word.lower()) !=-1 :\n",
    "                word_startCharIndex = text.lower().find(word.lower())\n",
    "                word_endCharIndex = word_startCharIndex+len(word)-1\n",
    "                utterance['entities'].append({\"startPos\": word_startCharIndex,\n",
    "                                                                \"endPos\": word_endCharIndex,\n",
    "                                                                \"entity\": \"Departure\"})\n",
    "    \n",
    "    \n",
    "        if 'dst_city' in data[index]['turns'][0][\"labels\"][\"frames\"][0][\"info\"].keys() :\n",
    "            word = data[index]['turns'][0][\"labels\"][\"frames\"][0][\"info\"]['dst_city'][0]['val']\n",
    "            if text.lower().find(word.lower()) !=-1 :\n",
    "                word_startCharIndex = text.lower().find(word.lower())\n",
    "                word_endCharIndex = word_startCharIndex+len(word)-1\n",
    "                utterance['entities'].append({\"startPos\": word_startCharIndex,\n",
    "                                                                    \"endPos\": word_endCharIndex,\n",
    "                                                                    \"entity\": \"Destination\"})    \n",
    "\n",
    "    \n",
    "    \n",
    "        if 'str_date' in data[index]['turns'][0][\"labels\"][\"frames\"][0][\"info\"].keys() :\n",
    "            word = data[index]['turns'][0][\"labels\"][\"frames\"][0][\"info\"]['str_date'][0]['val']\n",
    "            if text.lower().find(word.lower()) !=-1 :\n",
    "                word_startCharIndex = text.lower().find(word.lower())\n",
    "                word_endCharIndex = word_startCharIndex+len(word)-1\n",
    "                utterance['entities'].append({\"startPos\": word_startCharIndex,\n",
    "                                                                    \"endPos\": word_endCharIndex,\n",
    "                                                                    \"entity\": \"DepartureDate\"})     \n",
    "\n",
    "        if 'end_date' in data[index]['turns'][0][\"labels\"][\"frames\"][0][\"info\"].keys() :\n",
    "            word = data[index]['turns'][0][\"labels\"][\"frames\"][0][\"info\"]['end_date'][0]['val']\n",
    "            if text.lower().find(word.lower()) !=-1 :\n",
    "                word_startCharIndex = text.lower().find(word.lower())\n",
    "                word_endCharIndex = word_startCharIndex+len(word)-1\n",
    "                utterance['entities'].append({\"startPos\": word_startCharIndex,\n",
    "                                                                    \"endPos\": word_endCharIndex,\n",
    "                                                                    \"entity\": \"ArrivalDate\"})             \n",
    "    \n",
    "    \n",
    "        if 'budget' in data[index]['turns'][0][\"labels\"][\"frames\"][0][\"info\"].keys() :\n",
    "            word = data[index]['turns'][0][\"labels\"][\"frames\"][0][\"info\"]['budget'][0]['val']\n",
    "            #Done to check if the budget in the json is different from text because of float type\n",
    "#            if text.find(word) ==-1 :\n",
    "#                if text.find(word.replace('.', ',')) !=-1 :\n",
    "#                    word = word.replace('.', ',')\n",
    "#                elif (is_float_digit(word) ):\n",
    "###                    z = [float(s) for s in re.findall(r'-?\\d+\\.\\d*', text)]\n",
    "###                    if len(z) != 0 :\n",
    "###                        word =[int(x) for i,x in enumerate(z) if x == float(word)][0]\n",
    "###                        word = str(word)\n",
    "#                    if (text.find(str(int(float(word)))) !=-1 ):\n",
    "#                        word = str(int(float(word)))                \n",
    "            if text.find(word) !=-1 :\n",
    "                word_startCharIndex = text.find(word)\n",
    "                word_endCharIndex = word_startCharIndex+len(word)-1\n",
    "                utterance['entities'].append({\"startPos\": word_startCharIndex,\n",
    "                                                                \"endPos\": word_endCharIndex,\n",
    "                                                                \"entity\": \"Budget\"})   \n",
    "    \n",
    "    labeledExampleUtteranceWithMLEntity.append(utterance)\n",
    "        "
   ]
  },
  {
   "cell_type": "markdown",
   "id": "9245fbe4",
   "metadata": {},
   "source": [
    "### 3) Division des exemples en train et test"
   ]
  },
  {
   "cell_type": "code",
   "execution_count": 46,
   "id": "fdec5c6d",
   "metadata": {},
   "outputs": [
    {
     "data": {
      "text/plain": [
       "1369"
      ]
     },
     "execution_count": 46,
     "metadata": {},
     "output_type": "execute_result"
    }
   ],
   "source": [
    "len(labeledExampleUtteranceWithMLEntity)"
   ]
  },
  {
   "cell_type": "code",
   "execution_count": 47,
   "id": "68b6a843",
   "metadata": {},
   "outputs": [
    {
     "name": "stdout",
     "output_type": "stream",
     "text": [
      "taille train 958\n",
      "taille test 411\n"
     ]
    }
   ],
   "source": [
    "train_test__split_ratio = 0.7\n",
    "train_labeledExampleUtteranceWithMLEntity = labeledExampleUtteranceWithMLEntity[: int( len(labeledExampleUtteranceWithMLEntity) * train_test__split_ratio ) ]\n",
    "test_labeledExampleUtteranceWithMLEntity = labeledExampleUtteranceWithMLEntity[int( len(labeledExampleUtteranceWithMLEntity) * train_test__split_ratio ) :]\n",
    "print(\"taille train\", len (train_labeledExampleUtteranceWithMLEntity))\n",
    "print(\"taille test\", len (test_labeledExampleUtteranceWithMLEntity))"
   ]
  },
  {
   "cell_type": "code",
   "execution_count": 48,
   "id": "0c67b3a9",
   "metadata": {},
   "outputs": [],
   "source": [
    "with open(\"sample_test.json\", \"w\") as handle:\n",
    "    json.dump(test_labeledExampleUtteranceWithMLEntity[:50], handle)\n",
    "\n",
    "with open(\"sample_train.json\", \"w\") as handle:\n",
    "    json.dump(train_labeledExampleUtteranceWithMLEntity[:50], handle)"
   ]
  },
  {
   "cell_type": "code",
   "execution_count": 531,
   "id": "81aa37a8",
   "metadata": {},
   "outputs": [
    {
     "name": "stdout",
     "output_type": "stream",
     "text": [
      "taille train 958\n",
      "taille test 411\n"
     ]
    }
   ],
   "source": [
    "train_test__split_ratio = 0.7\n",
    "train_labeledExampleUtteranceWithMLEntity = labeledExampleUtteranceWithMLEntity[: int( len(labeledExampleUtteranceWithMLEntity) * train_test__split_ratio ) ]\n",
    "test_labeledExampleUtteranceWithMLEntity = labeledExampleUtteranceWithMLEntity[int( len(labeledExampleUtteranceWithMLEntity) * train_test__split_ratio ) :]\n",
    "print(\"taille train\", len (train_labeledExampleUtteranceWithMLEntity))\n",
    "print(\"taille test\", len (test_labeledExampleUtteranceWithMLEntity))\n",
    "with open(\"train.json\", \"w\") as handle:\n",
    "    json.dump(train_labeledExampleUtteranceWithMLEntity, handle)\n",
    "with open(\"test.json\", \"w\") as handle:\n",
    "    json.dump(test_labeledExampleUtteranceWithMLEntity, handle)\n",
    "with open(\"small_train.json\", \"w\") as handle:\n",
    "    json.dump(train_labeledExampleUtteranceWithMLEntity[:50], handle)"
   ]
  },
  {
   "cell_type": "code",
   "execution_count": 7,
   "id": "18dcb386",
   "metadata": {},
   "outputs": [],
   "source": [
    "def get_examples(json_file):\n",
    "    with open(json_file, \"r\") as handle:\n",
    "        file = json.load(handle)\n",
    "    return file"
   ]
  },
  {
   "cell_type": "code",
   "execution_count": 535,
   "id": "68ce4f66",
   "metadata": {},
   "outputs": [],
   "source": [
    "my_json = get_examples('small_train.json')"
   ]
  },
  {
   "cell_type": "code",
   "execution_count": 546,
   "id": "7b5d6791",
   "metadata": {},
   "outputs": [
    {
     "data": {
      "text/plain": [
       "dict_keys(['text', 'intentName', 'entityLabels'])"
      ]
     },
     "execution_count": 546,
     "metadata": {},
     "output_type": "execute_result"
    }
   ],
   "source": [
    "my_json[19].keys()"
   ]
  },
  {
   "cell_type": "code",
   "execution_count": 554,
   "id": "57b4edf5",
   "metadata": {},
   "outputs": [
    {
     "data": {
      "text/plain": [
       "dict_values(['HI im from Alexandria looking to book a 12 day vacation', 'BookFlight', [{'startCharIndex': 11, 'endCharIndex': 20, 'entityName': 'Departure'}]])"
      ]
     },
     "execution_count": 554,
     "metadata": {},
     "output_type": "execute_result"
    }
   ],
   "source": [
    "my_json[20].values()"
   ]
  },
  {
   "cell_type": "code",
   "execution_count": 552,
   "id": "17779733",
   "metadata": {},
   "outputs": [
    {
     "data": {
      "text/plain": [
       "'Goiania'"
      ]
     },
     "execution_count": 552,
     "metadata": {},
     "output_type": "execute_result"
    }
   ],
   "source": [
    "data[19]['turns'][0][\"labels\"][\"frames\"][0][\"info\"]['dst_city'][0]['val']"
   ]
  },
  {
   "cell_type": "code",
   "execution_count": 553,
   "id": "be117c0a",
   "metadata": {},
   "outputs": [
    {
     "data": {
      "text/plain": [
       "{'user_id': 'U21RP4FCY',\n",
       " 'turns': [{'text': 'HI im from Alexandria looking to book a 12 day vacation',\n",
       "   'labels': {'acts': [{'args': [{'val': 'book', 'key': 'intent'}],\n",
       "      'name': 'inform'},\n",
       "     {'args': [{'val': 'Alexandria', 'key': 'or_city'},\n",
       "       {'val': '12 day', 'key': 'max_duration'}],\n",
       "      'name': 'inform'}],\n",
       "    'acts_without_refs': [{'args': [{'val': 'book', 'key': 'intent'}],\n",
       "      'name': 'inform'},\n",
       "     {'args': [{'val': 'Alexandria', 'key': 'or_city'},\n",
       "       {'val': '12 day', 'key': 'max_duration'}],\n",
       "      'name': 'inform'}],\n",
       "    'active_frame': 1,\n",
       "    'frames': [{'info': {'intent': [{'val': 'book', 'negated': False}],\n",
       "       'or_city': [{'val': 'Alexandria', 'negated': False}],\n",
       "       'max_duration': [{'val': '12', 'negated': False}]},\n",
       "      'frame_id': 1,\n",
       "      'requests': [],\n",
       "      'frame_parent_id': None,\n",
       "      'binary_questions': [],\n",
       "      'compare_requests': []}]},\n",
       "   'author': 'user',\n",
       "   'timestamp': 1471281619330.0},\n",
       "  {'db': {'result': [[{'trip': {'returning': {'duration': {'hours': 2,\n",
       "          'min': 49},\n",
       "         'arrival': {'hour': 4,\n",
       "          'year': 2016,\n",
       "          'day': 23,\n",
       "          'min': 49,\n",
       "          'month': 8},\n",
       "         'departure': {'hour': 2,\n",
       "          'year': 2016,\n",
       "          'day': 23,\n",
       "          'min': 0,\n",
       "          'month': 8}},\n",
       "        'seat': 'ECONOMY',\n",
       "        'leaving': {'duration': {'hours': 2, 'min': 49},\n",
       "         'arrival': {'hour': 12,\n",
       "          'year': 2016,\n",
       "          'day': 17,\n",
       "          'min': 49,\n",
       "          'month': 8},\n",
       "         'departure': {'hour': 10,\n",
       "          'year': 2016,\n",
       "          'day': 17,\n",
       "          'min': 0,\n",
       "          'month': 8}},\n",
       "        'or_city': 'Alexandria',\n",
       "        'duration_days': 6},\n",
       "       'price': 838.54,\n",
       "       'hotel': {'gst_rating': 10,\n",
       "        'vicinity': [],\n",
       "        'name': 'The Western Ridge',\n",
       "        'country': 'Canada',\n",
       "        'amenities': ['FREE_PARKING', 'FREE_BREAKFAST', 'FREE_WIFI'],\n",
       "        'dst_city': 'Vancouver',\n",
       "        'category': '4.0 star hotel'}},\n",
       "      {'trip': {'returning': {'duration': {'hours': 2, 'min': 49},\n",
       "         'arrival': {'hour': 4,\n",
       "          'year': 2016,\n",
       "          'day': 23,\n",
       "          'min': 49,\n",
       "          'month': 8},\n",
       "         'departure': {'hour': 2,\n",
       "          'year': 2016,\n",
       "          'day': 23,\n",
       "          'min': 0,\n",
       "          'month': 8}},\n",
       "        'seat': 'BUSINESS',\n",
       "        'leaving': {'duration': {'hours': 2, 'min': 49},\n",
       "         'arrival': {'hour': 12,\n",
       "          'year': 2016,\n",
       "          'day': 17,\n",
       "          'min': 49,\n",
       "          'month': 8},\n",
       "         'departure': {'hour': 10,\n",
       "          'year': 2016,\n",
       "          'day': 17,\n",
       "          'min': 0,\n",
       "          'month': 8}},\n",
       "        'or_city': 'Alexandria',\n",
       "        'duration_days': 6},\n",
       "       'price': 972.81,\n",
       "       'hotel': {'gst_rating': 8.86,\n",
       "        'vicinity': [],\n",
       "        'name': 'Parallel Carnaval Bed & Breakfast',\n",
       "        'country': 'Canada',\n",
       "        'amenities': ['FREE_PARKING', 'FREE_BREAKFAST', 'FREE_WIFI'],\n",
       "        'dst_city': 'Vancouver',\n",
       "        'category': '3.0 star hotel'}},\n",
       "      {'trip': {'returning': {'duration': {'hours': 2, 'min': 49},\n",
       "         'arrival': {'hour': 4,\n",
       "          'year': 2016,\n",
       "          'day': 23,\n",
       "          'min': 49,\n",
       "          'month': 8},\n",
       "         'departure': {'hour': 2,\n",
       "          'year': 2016,\n",
       "          'day': 23,\n",
       "          'min': 0,\n",
       "          'month': 8}},\n",
       "        'seat': 'BUSINESS',\n",
       "        'leaving': {'duration': {'hours': 2, 'min': 49},\n",
       "         'arrival': {'hour': 12,\n",
       "          'year': 2016,\n",
       "          'day': 17,\n",
       "          'min': 49,\n",
       "          'month': 8},\n",
       "         'departure': {'hour': 10,\n",
       "          'year': 2016,\n",
       "          'day': 17,\n",
       "          'min': 0,\n",
       "          'month': 8}},\n",
       "        'or_city': 'Alexandria',\n",
       "        'duration_days': 6},\n",
       "       'price': 1005.97,\n",
       "       'hotel': {'gst_rating': 10,\n",
       "        'vicinity': [],\n",
       "        'name': 'The Western Ridge',\n",
       "        'country': 'Canada',\n",
       "        'amenities': ['FREE_PARKING', 'FREE_BREAKFAST', 'FREE_WIFI'],\n",
       "        'dst_city': 'Vancouver',\n",
       "        'category': '4.0 star hotel'}},\n",
       "      {'trip': {'returning': {'duration': {'hours': 2, 'min': 49},\n",
       "         'arrival': {'hour': 4,\n",
       "          'year': 2016,\n",
       "          'day': 25,\n",
       "          'min': 49,\n",
       "          'month': 8},\n",
       "         'departure': {'hour': 2,\n",
       "          'year': 2016,\n",
       "          'day': 25,\n",
       "          'min': 0,\n",
       "          'month': 8}},\n",
       "        'seat': 'ECONOMY',\n",
       "        'leaving': {'duration': {'hours': 2, 'min': 49},\n",
       "         'arrival': {'hour': 12,\n",
       "          'year': 2016,\n",
       "          'day': 19,\n",
       "          'min': 49,\n",
       "          'month': 8},\n",
       "         'departure': {'hour': 10,\n",
       "          'year': 2016,\n",
       "          'day': 19,\n",
       "          'min': 0,\n",
       "          'month': 8}},\n",
       "        'or_city': 'Alexandria',\n",
       "        'duration_days': 6},\n",
       "       'price': 1101.71,\n",
       "       'hotel': {'gst_rating': 8.8,\n",
       "        'vicinity': [],\n",
       "        'name': 'Obsidian Gem Inn',\n",
       "        'country': 'Canada',\n",
       "        'amenities': ['FREE_PARKING', 'FREE_BREAKFAST', 'FREE_WIFI'],\n",
       "        'dst_city': 'Vancouver',\n",
       "        'category': '4.0 star hotel'}},\n",
       "      {'trip': {'returning': {'duration': {'hours': 2, 'min': 49},\n",
       "         'arrival': {'hour': 4, 'year': 2016, 'day': 2, 'min': 49, 'month': 9},\n",
       "         'departure': {'hour': 2,\n",
       "          'year': 2016,\n",
       "          'day': 2,\n",
       "          'min': 0,\n",
       "          'month': 9}},\n",
       "        'seat': 'ECONOMY',\n",
       "        'leaving': {'duration': {'hours': 2, 'min': 49},\n",
       "         'arrival': {'hour': 12,\n",
       "          'year': 2016,\n",
       "          'day': 27,\n",
       "          'min': 49,\n",
       "          'month': 8},\n",
       "         'departure': {'hour': 10,\n",
       "          'year': 2016,\n",
       "          'day': 27,\n",
       "          'min': 0,\n",
       "          'month': 8}},\n",
       "        'or_city': 'Alexandria',\n",
       "        'duration_days': 6},\n",
       "       'price': 1299.96,\n",
       "       'hotel': {'gst_rating': 8.8,\n",
       "        'vicinity': [],\n",
       "        'name': 'Obsidian Gem Inn',\n",
       "        'country': 'Canada',\n",
       "        'amenities': ['FREE_PARKING', 'FREE_BREAKFAST', 'FREE_WIFI'],\n",
       "        'dst_city': 'Vancouver',\n",
       "        'category': '4.0 star hotel'}},\n",
       "      {'trip': {'returning': {'duration': {'hours': 2, 'min': 49},\n",
       "         'arrival': {'hour': 4,\n",
       "          'year': 2016,\n",
       "          'day': 25,\n",
       "          'min': 49,\n",
       "          'month': 8},\n",
       "         'departure': {'hour': 2,\n",
       "          'year': 2016,\n",
       "          'day': 25,\n",
       "          'min': 0,\n",
       "          'month': 8}},\n",
       "        'seat': 'BUSINESS',\n",
       "        'leaving': {'duration': {'hours': 2, 'min': 49},\n",
       "         'arrival': {'hour': 12,\n",
       "          'year': 2016,\n",
       "          'day': 19,\n",
       "          'min': 49,\n",
       "          'month': 8},\n",
       "         'departure': {'hour': 10,\n",
       "          'year': 2016,\n",
       "          'day': 19,\n",
       "          'min': 0,\n",
       "          'month': 8}},\n",
       "        'or_city': 'Alexandria',\n",
       "        'duration_days': 6},\n",
       "       'price': 1332.89,\n",
       "       'hotel': {'gst_rating': 8.8,\n",
       "        'vicinity': [],\n",
       "        'name': 'Obsidian Gem Inn',\n",
       "        'country': 'Canada',\n",
       "        'amenities': ['FREE_PARKING', 'FREE_BREAKFAST', 'FREE_WIFI'],\n",
       "        'dst_city': 'Vancouver',\n",
       "        'category': '4.0 star hotel'}},\n",
       "      {'trip': {'returning': {'duration': {'hours': 2, 'min': 49},\n",
       "         'arrival': {'hour': 4, 'year': 2016, 'day': 5, 'min': 49, 'month': 9},\n",
       "         'departure': {'hour': 2,\n",
       "          'year': 2016,\n",
       "          'day': 5,\n",
       "          'min': 0,\n",
       "          'month': 9}},\n",
       "        'seat': 'BUSINESS',\n",
       "        'leaving': {'duration': {'hours': 2, 'min': 49},\n",
       "         'arrival': {'hour': 12,\n",
       "          'year': 2016,\n",
       "          'day': 30,\n",
       "          'min': 49,\n",
       "          'month': 8},\n",
       "         'departure': {'hour': 10,\n",
       "          'year': 2016,\n",
       "          'day': 30,\n",
       "          'min': 0,\n",
       "          'month': 8}},\n",
       "        'or_city': 'Alexandria',\n",
       "        'duration_days': 6},\n",
       "       'price': 1343.26,\n",
       "       'hotel': {'gst_rating': 8.86,\n",
       "        'vicinity': [],\n",
       "        'name': 'Parallel Carnaval Bed & Breakfast',\n",
       "        'country': 'Canada',\n",
       "        'amenities': ['FREE_PARKING', 'FREE_BREAKFAST', 'FREE_WIFI'],\n",
       "        'dst_city': 'Vancouver',\n",
       "        'category': '3.0 star hotel'}},\n",
       "      {'trip': {'returning': {'duration': {'hours': 2, 'min': 49},\n",
       "         'arrival': {'hour': 4, 'year': 2016, 'day': 2, 'min': 49, 'month': 9},\n",
       "         'departure': {'hour': 2,\n",
       "          'year': 2016,\n",
       "          'day': 2,\n",
       "          'min': 0,\n",
       "          'month': 9}},\n",
       "        'seat': 'ECONOMY',\n",
       "        'leaving': {'duration': {'hours': 2, 'min': 49},\n",
       "         'arrival': {'hour': 12,\n",
       "          'year': 2016,\n",
       "          'day': 27,\n",
       "          'min': 49,\n",
       "          'month': 8},\n",
       "         'departure': {'hour': 10,\n",
       "          'year': 2016,\n",
       "          'day': 27,\n",
       "          'min': 0,\n",
       "          'month': 8}},\n",
       "        'or_city': 'Alexandria',\n",
       "        'duration_days': 6},\n",
       "       'price': 1366.2,\n",
       "       'hotel': {'gst_rating': 10,\n",
       "        'vicinity': [],\n",
       "        'name': 'The Western Ridge',\n",
       "        'country': 'Canada',\n",
       "        'amenities': ['FREE_PARKING', 'FREE_BREAKFAST', 'FREE_WIFI'],\n",
       "        'dst_city': 'Vancouver',\n",
       "        'category': '4.0 star hotel'}},\n",
       "      {'trip': {'returning': {'duration': {'hours': 2, 'min': 49},\n",
       "         'arrival': {'hour': 4, 'year': 2016, 'day': 2, 'min': 49, 'month': 9},\n",
       "         'departure': {'hour': 2,\n",
       "          'year': 2016,\n",
       "          'day': 2,\n",
       "          'min': 0,\n",
       "          'month': 9}},\n",
       "        'seat': 'BUSINESS',\n",
       "        'leaving': {'duration': {'hours': 2, 'min': 49},\n",
       "         'arrival': {'hour': 12,\n",
       "          'year': 2016,\n",
       "          'day': 27,\n",
       "          'min': 49,\n",
       "          'month': 8},\n",
       "         'departure': {'hour': 10,\n",
       "          'year': 2016,\n",
       "          'day': 27,\n",
       "          'min': 0,\n",
       "          'month': 8}},\n",
       "        'or_city': 'Alexandria',\n",
       "        'duration_days': 6},\n",
       "       'price': 1572.73,\n",
       "       'hotel': {'gst_rating': 8.8,\n",
       "        'vicinity': [],\n",
       "        'name': 'Obsidian Gem Inn',\n",
       "        'country': 'Canada',\n",
       "        'amenities': ['FREE_PARKING', 'FREE_BREAKFAST', 'FREE_WIFI'],\n",
       "        'dst_city': 'Vancouver',\n",
       "        'category': '4.0 star hotel'}},\n",
       "      {'trip': {'returning': {'duration': {'hours': 2, 'min': 49},\n",
       "         'arrival': {'hour': 4, 'year': 2016, 'day': 2, 'min': 49, 'month': 9},\n",
       "         'departure': {'hour': 2,\n",
       "          'year': 2016,\n",
       "          'day': 2,\n",
       "          'min': 0,\n",
       "          'month': 9}},\n",
       "        'seat': 'BUSINESS',\n",
       "        'leaving': {'duration': {'hours': 2, 'min': 49},\n",
       "         'arrival': {'hour': 12,\n",
       "          'year': 2016,\n",
       "          'day': 27,\n",
       "          'min': 49,\n",
       "          'month': 8},\n",
       "         'departure': {'hour': 10,\n",
       "          'year': 2016,\n",
       "          'day': 27,\n",
       "          'min': 0,\n",
       "          'month': 8}},\n",
       "        'or_city': 'Alexandria',\n",
       "        'duration_days': 6},\n",
       "       'price': 1638.98,\n",
       "       'hotel': {'gst_rating': 10,\n",
       "        'vicinity': [],\n",
       "        'name': 'The Western Ridge',\n",
       "        'country': 'Canada',\n",
       "        'amenities': ['FREE_PARKING', 'FREE_BREAKFAST', 'FREE_WIFI'],\n",
       "        'dst_city': 'Vancouver',\n",
       "        'category': '4.0 star hotel'}}]],\n",
       "    'search': [{'ORIGIN_CITY': 'alexandria',\n",
       "      'NUM_ADULTS': '1',\n",
       "      'MAX_DURATION': 1036800000,\n",
       "      'timestamp': 1471281645.196,\n",
       "      'RESULT_LIMIT': '10'}]},\n",
       "   'text': 'I only have flights available to Vancouver, Canada at the moment. Would that be satisfactory?',\n",
       "   'labels': {'acts': [{'args': [{'val': 'Vancouver, Canada',\n",
       "        'key': 'dst_city'},\n",
       "       {'val': 2, 'key': 'id'}],\n",
       "      'name': 'suggest'}],\n",
       "    'active_frame': 1,\n",
       "    'frames': [{'info': {'intent': [{'val': 'book', 'negated': False}],\n",
       "       'or_city': [{'val': 'Alexandria', 'negated': False}],\n",
       "       'max_duration': [{'val': '12', 'negated': False}]},\n",
       "      'frame_id': 1,\n",
       "      'requests': [],\n",
       "      'frame_parent_id': None,\n",
       "      'binary_questions': [],\n",
       "      'compare_requests': []},\n",
       "     {'info': {'intent': [{'val': 'book', 'negated': False}],\n",
       "       'or_city': [{'val': 'Alexandria', 'negated': False}],\n",
       "       'max_duration': [{'val': '12', 'negated': False}],\n",
       "       'dst_city': [{'val': 'Vancouver, Canada', 'negated': False}]},\n",
       "      'frame_id': 2,\n",
       "      'requests': [],\n",
       "      'frame_parent_id': 1,\n",
       "      'binary_questions': [],\n",
       "      'compare_requests': []}]},\n",
       "   'author': 'wizard',\n",
       "   'timestamp': 1471281728218},\n",
       "  {'text': 'no sorry that wouldn’t. I will look elsewhere thank you!',\n",
       "   'labels': {'acts': [{'args': [{'val': [{'annotations': [{'val': 'that',\n",
       "            'key': 'ref_anaphora'}],\n",
       "          'frame': 2,\n",
       "          'fromrange': False}],\n",
       "        'key': 'ref'}],\n",
       "      'name': 'negate'},\n",
       "     {'args': [], 'name': 'thankyou'}],\n",
       "    'acts_without_refs': [{'args': [{'val': 'that', 'key': 'ref_anaphora'}],\n",
       "      'name': 'negate'},\n",
       "     {'args': [], 'name': 'thankyou'}],\n",
       "    'active_frame': 1,\n",
       "    'frames': [{'info': {'intent': [{'val': 'book', 'negated': False}],\n",
       "       'or_city': [{'val': 'Alexandria', 'negated': False}],\n",
       "       'max_duration': [{'val': '12', 'negated': False}]},\n",
       "      'frame_id': 1,\n",
       "      'requests': [],\n",
       "      'frame_parent_id': None,\n",
       "      'binary_questions': [],\n",
       "      'compare_requests': []},\n",
       "     {'info': {'intent': [{'val': 'book', 'negated': False}],\n",
       "       'or_city': [{'val': 'Alexandria', 'negated': False}],\n",
       "       'max_duration': [{'val': '12', 'negated': False}],\n",
       "       'dst_city': [{'val': 'Vancouver, Canada', 'negated': False}]},\n",
       "      'frame_id': 2,\n",
       "      'requests': [],\n",
       "      'frame_parent_id': 1,\n",
       "      'binary_questions': [],\n",
       "      'compare_requests': []}]},\n",
       "   'author': 'user',\n",
       "   'timestamp': 1471281875962}],\n",
       " 'wizard_id': 'U21E0179B',\n",
       " 'id': '8d279a70-73e8-4da4-a9ed-80fbb0c0ada4',\n",
       " 'labels': {'userSurveyRating': 1.0, 'wizardSurveyTaskSuccessful': True}}"
      ]
     },
     "execution_count": 553,
     "metadata": {},
     "output_type": "execute_result"
    }
   ],
   "source": [
    "data[20]"
   ]
  },
  {
   "cell_type": "code",
   "execution_count": 518,
   "id": "983096d8",
   "metadata": {},
   "outputs": [
    {
     "data": {
      "text/plain": [
       "50"
      ]
     },
     "execution_count": 518,
     "metadata": {},
     "output_type": "execute_result"
    }
   ],
   "source": [
    "len(my_json)"
   ]
  },
  {
   "cell_type": "code",
   "execution_count": 524,
   "id": "c6fbbd17",
   "metadata": {},
   "outputs": [
    {
     "data": {
      "text/plain": [
       "{'text': \"Hi, I'm leaving from Diagon Alley and going to Coruscant on a budget of $3400. The dates don't matter, but I cannot afford anything over my budget.\",\n",
       " 'intentName': 'BookFlight',\n",
       " 'entityLabels': [{'startCharIndex': 21,\n",
       "   'endCharIndex': 32,\n",
       "   'entityName': 'Departure'},\n",
       "  {'startCharIndex': 47, 'endCharIndex': 55, 'entityName': 'Destination'},\n",
       "  {'startCharIndex': -1, 'endCharIndex': 0, 'entityName': 'Departure Date'},\n",
       "  {'startCharIndex': -1, 'endCharIndex': 0, 'entityName': 'Arrival Date'},\n",
       "  {'startCharIndex': 73, 'endCharIndex': 76, 'entityName': 'Budget'}]}"
      ]
     },
     "execution_count": 524,
     "metadata": {},
     "output_type": "execute_result"
    }
   ],
   "source": [
    "my_json[14]"
   ]
  },
  {
   "cell_type": "code",
   "execution_count": 525,
   "id": "cc681a49",
   "metadata": {},
   "outputs": [
    {
     "data": {
      "text/plain": [
       "{'user_id': 'U22HTHYNP',\n",
       " 'turns': [{'text': \"Hi, I'm leaving from Diagon Alley and going to Coruscant on a budget of $3400. The dates don't matter, but I cannot afford anything over my budget.\",\n",
       "   'labels': {'acts': [{'args': [{'val': 'book', 'key': 'intent'}],\n",
       "      'name': 'inform'},\n",
       "     {'args': [{'val': 'Diagon Alley', 'key': 'or_city'},\n",
       "       {'val': 'Coruscant', 'key': 'dst_city'},\n",
       "       {'val': '$3400', 'key': 'budget'},\n",
       "       {'val': '-1', 'key': 'str_date'},\n",
       "       {'val': '-1', 'key': 'end_date'}],\n",
       "      'name': 'inform'}],\n",
       "    'acts_without_refs': [{'args': [{'val': 'book', 'key': 'intent'}],\n",
       "      'name': 'inform'},\n",
       "     {'args': [{'val': 'Diagon Alley', 'key': 'or_city'},\n",
       "       {'val': 'Coruscant', 'key': 'dst_city'},\n",
       "       {'val': '$3400', 'key': 'budget'},\n",
       "       {'val': '-1', 'key': 'str_date'},\n",
       "       {'val': '-1', 'key': 'end_date'}],\n",
       "      'name': 'inform'}],\n",
       "    'active_frame': 1,\n",
       "    'frames': [{'info': {'intent': [{'val': 'book', 'negated': False}],\n",
       "       'or_city': [{'val': 'Diagon Alley', 'negated': False}],\n",
       "       'dst_city': [{'val': 'Coruscant', 'negated': False}],\n",
       "       'budget': [{'val': '3400.0', 'negated': False}],\n",
       "       'str_date': [{'val': '-1', 'negated': False}],\n",
       "       'end_date': [{'val': '-1', 'negated': False}]},\n",
       "      'frame_id': 1,\n",
       "      'requests': [],\n",
       "      'frame_parent_id': None,\n",
       "      'binary_questions': [],\n",
       "      'compare_requests': []}]},\n",
       "   'author': 'user',\n",
       "   'timestamp': 1471278498120.0},\n",
       "  {'db': {'result': [], 'search': []},\n",
       "   'text': 'And how many children and adults will you be bringing with you?',\n",
       "   'labels': {'acts': [{'args': [{'key': 'n_children'}, {'key': 'n_adults'}],\n",
       "      'name': 'request'}],\n",
       "    'active_frame': 1,\n",
       "    'frames': [{'info': {'intent': [{'val': 'book', 'negated': False}],\n",
       "       'or_city': [{'val': 'Diagon Alley', 'negated': False}],\n",
       "       'dst_city': [{'val': 'Coruscant', 'negated': False}],\n",
       "       'budget': [{'val': '3400.0', 'negated': False}],\n",
       "       'str_date': [{'val': '-1', 'negated': False}],\n",
       "       'end_date': [{'val': '-1', 'negated': False}]},\n",
       "      'frame_id': 1,\n",
       "      'requests': [{'author': 'wizard', 'key': 'n_adults'},\n",
       "       {'author': 'wizard', 'key': 'n_children'}],\n",
       "      'frame_parent_id': None,\n",
       "      'binary_questions': [],\n",
       "      'compare_requests': []}]},\n",
       "   'author': 'wizard',\n",
       "   'timestamp': 1471278575964.0},\n",
       "  {'text': 'Just myself.',\n",
       "   'labels': {'acts': [{'args': [{'val': 'Just myself', 'key': 'n_adults'}],\n",
       "      'name': 'inform'}],\n",
       "    'acts_without_refs': [{'args': [{'val': 'Just myself', 'key': 'n_adults'}],\n",
       "      'name': 'inform'}],\n",
       "    'active_frame': 1,\n",
       "    'frames': [{'info': {'intent': [{'val': 'book', 'negated': False}],\n",
       "       'budget': [{'val': '3400.0', 'negated': False}],\n",
       "       'dst_city': [{'val': 'Coruscant', 'negated': False}],\n",
       "       'or_city': [{'val': 'Diagon Alley', 'negated': False}],\n",
       "       'str_date': [{'val': '-1', 'negated': False}],\n",
       "       'end_date': [{'val': '-1', 'negated': False}],\n",
       "       'n_adults': [{'val': '1', 'negated': False}]},\n",
       "      'frame_id': 1,\n",
       "      'requests': [],\n",
       "      'frame_parent_id': None,\n",
       "      'binary_questions': [],\n",
       "      'compare_requests': []}]},\n",
       "   'author': 'user',\n",
       "   'timestamp': 1471278589938.0},\n",
       "  {'db': {'result': [[{'trip': {'returning': {'duration': {'hours': 0,\n",
       "          'min': 44},\n",
       "         'arrival': {'hour': 3,\n",
       "          'year': 2016,\n",
       "          'day': 26,\n",
       "          'min': 44,\n",
       "          'month': 8},\n",
       "         'departure': {'hour': 3,\n",
       "          'year': 2016,\n",
       "          'day': 26,\n",
       "          'min': 0,\n",
       "          'month': 8}},\n",
       "        'seat': 'BUSINESS',\n",
       "        'leaving': {'duration': {'hours': 0, 'min': 44},\n",
       "         'arrival': {'hour': 11,\n",
       "          'year': 2016,\n",
       "          'day': 19,\n",
       "          'min': 44,\n",
       "          'month': 8},\n",
       "         'departure': {'hour': 11,\n",
       "          'year': 2016,\n",
       "          'day': 19,\n",
       "          'min': 0,\n",
       "          'month': 8}},\n",
       "        'or_city': 'Calgary',\n",
       "        'duration_days': 7},\n",
       "       'price': 732.38,\n",
       "       'hotel': {'gst_rating': 8.8,\n",
       "        'vicinity': [],\n",
       "        'name': 'Obsidian Gem Inn',\n",
       "        'country': 'Canada',\n",
       "        'amenities': ['FREE_BREAKFAST', 'FREE_PARKING', 'FREE_WIFI'],\n",
       "        'dst_city': 'Vancouver',\n",
       "        'category': '4.0 star hotel'}},\n",
       "      {'trip': {'returning': {'duration': {'hours': 0, 'min': 47},\n",
       "         'arrival': {'hour': 6,\n",
       "          'year': 2016,\n",
       "          'day': 29,\n",
       "          'min': 47,\n",
       "          'month': 8},\n",
       "         'departure': {'hour': 6,\n",
       "          'year': 2016,\n",
       "          'day': 29,\n",
       "          'min': 0,\n",
       "          'month': 8}},\n",
       "        'seat': 'BUSINESS',\n",
       "        'leaving': {'duration': {'hours': 0, 'min': 47},\n",
       "         'arrival': {'hour': 14,\n",
       "          'year': 2016,\n",
       "          'day': 19,\n",
       "          'min': 47,\n",
       "          'month': 8},\n",
       "         'departure': {'hour': 14,\n",
       "          'year': 2016,\n",
       "          'day': 19,\n",
       "          'min': 0,\n",
       "          'month': 8}},\n",
       "        'or_city': 'Dublin',\n",
       "        'duration_days': 10},\n",
       "       'price': 751.44,\n",
       "       'hotel': {'gst_rating': 8.8,\n",
       "        'vicinity': [],\n",
       "        'name': 'Obsidian Gem Inn',\n",
       "        'country': 'Canada',\n",
       "        'amenities': ['FREE_BREAKFAST', 'FREE_PARKING', 'FREE_WIFI'],\n",
       "        'dst_city': 'Vancouver',\n",
       "        'category': '4.0 star hotel'}},\n",
       "      {'trip': {'returning': {'duration': {'hours': 0, 'min': 44},\n",
       "         'arrival': {'hour': 3, 'year': 2016, 'day': 3, 'min': 44, 'month': 9},\n",
       "         'departure': {'hour': 3,\n",
       "          'year': 2016,\n",
       "          'day': 3,\n",
       "          'min': 0,\n",
       "          'month': 9}},\n",
       "        'seat': 'BUSINESS',\n",
       "        'leaving': {'duration': {'hours': 0, 'min': 44},\n",
       "         'arrival': {'hour': 11,\n",
       "          'year': 2016,\n",
       "          'day': 27,\n",
       "          'min': 44,\n",
       "          'month': 8},\n",
       "         'departure': {'hour': 11,\n",
       "          'year': 2016,\n",
       "          'day': 27,\n",
       "          'min': 0,\n",
       "          'month': 8}},\n",
       "        'or_city': 'Calgary',\n",
       "        'duration_days': 7},\n",
       "       'price': 810.5,\n",
       "       'hotel': {'gst_rating': 8.8,\n",
       "        'vicinity': [],\n",
       "        'name': 'Obsidian Gem Inn',\n",
       "        'country': 'Canada',\n",
       "        'amenities': ['FREE_BREAKFAST', 'FREE_PARKING', 'FREE_WIFI'],\n",
       "        'dst_city': 'Vancouver',\n",
       "        'category': '4.0 star hotel'}},\n",
       "      {'trip': {'returning': {'duration': {'hours': 2, 'min': 2},\n",
       "         'arrival': {'hour': 4, 'year': 2016, 'day': 25, 'min': 2, 'month': 8},\n",
       "         'departure': {'hour': 2,\n",
       "          'year': 2016,\n",
       "          'day': 25,\n",
       "          'min': 0,\n",
       "          'month': 8}},\n",
       "        'seat': 'BUSINESS',\n",
       "        'leaving': {'duration': {'hours': 2, 'min': 2},\n",
       "         'arrival': {'hour': 12,\n",
       "          'year': 2016,\n",
       "          'day': 19,\n",
       "          'min': 2,\n",
       "          'month': 8},\n",
       "         'departure': {'hour': 10,\n",
       "          'year': 2016,\n",
       "          'day': 19,\n",
       "          'min': 0,\n",
       "          'month': 8}},\n",
       "        'or_city': 'San Diego',\n",
       "        'duration_days': 6},\n",
       "       'price': 1074.52,\n",
       "       'hotel': {'gst_rating': 8.8,\n",
       "        'vicinity': [],\n",
       "        'name': 'Obsidian Gem Inn',\n",
       "        'country': 'Canada',\n",
       "        'amenities': ['FREE_BREAKFAST', 'FREE_PARKING', 'FREE_WIFI'],\n",
       "        'dst_city': 'Vancouver',\n",
       "        'category': '4.0 star hotel'}},\n",
       "      {'trip': {'returning': {'duration': {'hours': 2, 'min': 2},\n",
       "         'arrival': {'hour': 4, 'year': 2016, 'day': 2, 'min': 2, 'month': 9},\n",
       "         'departure': {'hour': 2,\n",
       "          'year': 2016,\n",
       "          'day': 2,\n",
       "          'min': 0,\n",
       "          'month': 9}},\n",
       "        'seat': 'BUSINESS',\n",
       "        'leaving': {'duration': {'hours': 2, 'min': 2},\n",
       "         'arrival': {'hour': 12,\n",
       "          'year': 2016,\n",
       "          'day': 27,\n",
       "          'min': 2,\n",
       "          'month': 8},\n",
       "         'departure': {'hour': 10,\n",
       "          'year': 2016,\n",
       "          'day': 27,\n",
       "          'min': 0,\n",
       "          'month': 8}},\n",
       "        'or_city': 'San Diego',\n",
       "        'duration_days': 6},\n",
       "       'price': 1267.86,\n",
       "       'hotel': {'gst_rating': 8.8,\n",
       "        'vicinity': [],\n",
       "        'name': 'Obsidian Gem Inn',\n",
       "        'country': 'Canada',\n",
       "        'amenities': ['FREE_BREAKFAST', 'FREE_PARKING', 'FREE_WIFI'],\n",
       "        'dst_city': 'Vancouver',\n",
       "        'category': '4.0 star hotel'}}]],\n",
       "    'search': [{'ORIGIN_CITY': 'Diagon Alley',\n",
       "      'NUM_ADULTS': '1',\n",
       "      'RESULT_LIMIT': '10',\n",
       "      'timestamp': 1471278599.549,\n",
       "      'DESTINATION_CITY': 'Coruscant',\n",
       "      'PRICE_MAX': '3400'}]},\n",
       "   'text': \"I'm sorry, but this travel destination is not available.\",\n",
       "   'labels': {'acts': [{'args': [], 'name': 'sorry'},\n",
       "     {'args': [{'val': [{'annotations': [{'val': None, 'key': 'dst_city'}],\n",
       "          'frame': 1,\n",
       "          'fromrange': False}],\n",
       "        'key': 'ref'}],\n",
       "      'name': 'no_result'}],\n",
       "    'active_frame': 1,\n",
       "    'frames': [{'info': {'intent': [{'val': 'book', 'negated': False}],\n",
       "       'budget': [{'val': '3400.0', 'negated': False}],\n",
       "       'dst_city': [{'val': 'Coruscant', 'negated': False}],\n",
       "       'or_city': [{'val': 'Diagon Alley', 'negated': False}],\n",
       "       'str_date': [{'val': '-1', 'negated': False}],\n",
       "       'end_date': [{'val': '-1', 'negated': False}],\n",
       "       'n_adults': [{'val': '1', 'negated': False}],\n",
       "       'NO_RESULT': [{'val': True, 'negated': False}]},\n",
       "      'frame_id': 1,\n",
       "      'requests': [],\n",
       "      'frame_parent_id': None,\n",
       "      'binary_questions': [],\n",
       "      'compare_requests': []}]},\n",
       "   'author': 'wizard',\n",
       "   'timestamp': 1471278659410.0},\n",
       "  {'text': 'What about Neverland on the same budget?',\n",
       "   'labels': {'acts': [{'args': [{'val': 'Neverland', 'key': 'dst_city'},\n",
       "       {'val': [{'annotations': [{'key': 'budget'}],\n",
       "          'frame': 1,\n",
       "          'fromrange': False}],\n",
       "        'key': 'ref'}],\n",
       "      'name': 'inform'}],\n",
       "    'acts_without_refs': [{'args': [{'val': 'Neverland', 'key': 'dst_city'},\n",
       "       {'val': None, 'key': 'budget'}],\n",
       "      'name': 'inform'}],\n",
       "    'active_frame': 2,\n",
       "    'frames': [{'info': {'intent': [{'val': 'book', 'negated': False}],\n",
       "       'budget': [{'val': '3400.0', 'negated': False}],\n",
       "       'dst_city': [{'val': 'Coruscant', 'negated': False}],\n",
       "       'or_city': [{'val': 'Diagon Alley', 'negated': False}],\n",
       "       'str_date': [{'val': '-1', 'negated': False}],\n",
       "       'end_date': [{'val': '-1', 'negated': False}],\n",
       "       'n_adults': [{'val': '1', 'negated': False}],\n",
       "       'NO_RESULT': [{'val': True, 'negated': False}]},\n",
       "      'frame_id': 1,\n",
       "      'requests': [],\n",
       "      'frame_parent_id': None,\n",
       "      'binary_questions': [],\n",
       "      'compare_requests': []},\n",
       "     {'info': {'intent': [{'val': 'book', 'negated': False}],\n",
       "       'budget': [{'val': '3400.0', 'negated': False}],\n",
       "       'dst_city': [{'val': 'Neverland', 'negated': False}],\n",
       "       'or_city': [{'val': 'Diagon Alley', 'negated': False}],\n",
       "       'str_date': [{'val': '-1', 'negated': False}],\n",
       "       'end_date': [{'val': '-1', 'negated': False}],\n",
       "       'n_adults': [{'val': '1', 'negated': False}]},\n",
       "      'frame_id': 2,\n",
       "      'requests': [],\n",
       "      'frame_parent_id': 1,\n",
       "      'binary_questions': [],\n",
       "      'compare_requests': []}]},\n",
       "   'author': 'user',\n",
       "   'timestamp': 1471278718258.0},\n",
       "  {'db': {'result': [[{'trip': {'returning': {'duration': {'hours': 0,\n",
       "          'min': 44},\n",
       "         'arrival': {'hour': 3,\n",
       "          'year': 2016,\n",
       "          'day': 26,\n",
       "          'min': 44,\n",
       "          'month': 8},\n",
       "         'departure': {'hour': 3,\n",
       "          'year': 2016,\n",
       "          'day': 26,\n",
       "          'min': 0,\n",
       "          'month': 8}},\n",
       "        'seat': 'BUSINESS',\n",
       "        'leaving': {'duration': {'hours': 0, 'min': 44},\n",
       "         'arrival': {'hour': 11,\n",
       "          'year': 2016,\n",
       "          'day': 19,\n",
       "          'min': 44,\n",
       "          'month': 8},\n",
       "         'departure': {'hour': 11,\n",
       "          'year': 2016,\n",
       "          'day': 19,\n",
       "          'min': 0,\n",
       "          'month': 8}},\n",
       "        'or_city': 'Calgary',\n",
       "        'duration_days': 7},\n",
       "       'price': 732.38,\n",
       "       'hotel': {'gst_rating': 8.8,\n",
       "        'vicinity': [],\n",
       "        'name': 'Obsidian Gem Inn',\n",
       "        'country': 'Canada',\n",
       "        'amenities': ['FREE_BREAKFAST', 'FREE_PARKING', 'FREE_WIFI'],\n",
       "        'dst_city': 'Vancouver',\n",
       "        'category': '4.0 star hotel'}},\n",
       "      {'trip': {'returning': {'duration': {'hours': 0, 'min': 47},\n",
       "         'arrival': {'hour': 6,\n",
       "          'year': 2016,\n",
       "          'day': 29,\n",
       "          'min': 47,\n",
       "          'month': 8},\n",
       "         'departure': {'hour': 6,\n",
       "          'year': 2016,\n",
       "          'day': 29,\n",
       "          'min': 0,\n",
       "          'month': 8}},\n",
       "        'seat': 'BUSINESS',\n",
       "        'leaving': {'duration': {'hours': 0, 'min': 47},\n",
       "         'arrival': {'hour': 14,\n",
       "          'year': 2016,\n",
       "          'day': 19,\n",
       "          'min': 47,\n",
       "          'month': 8},\n",
       "         'departure': {'hour': 14,\n",
       "          'year': 2016,\n",
       "          'day': 19,\n",
       "          'min': 0,\n",
       "          'month': 8}},\n",
       "        'or_city': 'Dublin',\n",
       "        'duration_days': 10},\n",
       "       'price': 751.44,\n",
       "       'hotel': {'gst_rating': 8.8,\n",
       "        'vicinity': [],\n",
       "        'name': 'Obsidian Gem Inn',\n",
       "        'country': 'Canada',\n",
       "        'amenities': ['FREE_BREAKFAST', 'FREE_PARKING', 'FREE_WIFI'],\n",
       "        'dst_city': 'Vancouver',\n",
       "        'category': '4.0 star hotel'}},\n",
       "      {'trip': {'returning': {'duration': {'hours': 0, 'min': 44},\n",
       "         'arrival': {'hour': 3, 'year': 2016, 'day': 3, 'min': 44, 'month': 9},\n",
       "         'departure': {'hour': 3,\n",
       "          'year': 2016,\n",
       "          'day': 3,\n",
       "          'min': 0,\n",
       "          'month': 9}},\n",
       "        'seat': 'BUSINESS',\n",
       "        'leaving': {'duration': {'hours': 0, 'min': 44},\n",
       "         'arrival': {'hour': 11,\n",
       "          'year': 2016,\n",
       "          'day': 27,\n",
       "          'min': 44,\n",
       "          'month': 8},\n",
       "         'departure': {'hour': 11,\n",
       "          'year': 2016,\n",
       "          'day': 27,\n",
       "          'min': 0,\n",
       "          'month': 8}},\n",
       "        'or_city': 'Calgary',\n",
       "        'duration_days': 7},\n",
       "       'price': 810.5,\n",
       "       'hotel': {'gst_rating': 8.8,\n",
       "        'vicinity': [],\n",
       "        'name': 'Obsidian Gem Inn',\n",
       "        'country': 'Canada',\n",
       "        'amenities': ['FREE_BREAKFAST', 'FREE_PARKING', 'FREE_WIFI'],\n",
       "        'dst_city': 'Vancouver',\n",
       "        'category': '4.0 star hotel'}},\n",
       "      {'trip': {'returning': {'duration': {'hours': 2, 'min': 2},\n",
       "         'arrival': {'hour': 4, 'year': 2016, 'day': 25, 'min': 2, 'month': 8},\n",
       "         'departure': {'hour': 2,\n",
       "          'year': 2016,\n",
       "          'day': 25,\n",
       "          'min': 0,\n",
       "          'month': 8}},\n",
       "        'seat': 'BUSINESS',\n",
       "        'leaving': {'duration': {'hours': 2, 'min': 2},\n",
       "         'arrival': {'hour': 12,\n",
       "          'year': 2016,\n",
       "          'day': 19,\n",
       "          'min': 2,\n",
       "          'month': 8},\n",
       "         'departure': {'hour': 10,\n",
       "          'year': 2016,\n",
       "          'day': 19,\n",
       "          'min': 0,\n",
       "          'month': 8}},\n",
       "        'or_city': 'San Diego',\n",
       "        'duration_days': 6},\n",
       "       'price': 1074.52,\n",
       "       'hotel': {'gst_rating': 8.8,\n",
       "        'vicinity': [],\n",
       "        'name': 'Obsidian Gem Inn',\n",
       "        'country': 'Canada',\n",
       "        'amenities': ['FREE_BREAKFAST', 'FREE_PARKING', 'FREE_WIFI'],\n",
       "        'dst_city': 'Vancouver',\n",
       "        'category': '4.0 star hotel'}},\n",
       "      {'trip': {'returning': {'duration': {'hours': 2, 'min': 2},\n",
       "         'arrival': {'hour': 4, 'year': 2016, 'day': 2, 'min': 2, 'month': 9},\n",
       "         'departure': {'hour': 2,\n",
       "          'year': 2016,\n",
       "          'day': 2,\n",
       "          'min': 0,\n",
       "          'month': 9}},\n",
       "        'seat': 'BUSINESS',\n",
       "        'leaving': {'duration': {'hours': 2, 'min': 2},\n",
       "         'arrival': {'hour': 12,\n",
       "          'year': 2016,\n",
       "          'day': 27,\n",
       "          'min': 2,\n",
       "          'month': 8},\n",
       "         'departure': {'hour': 10,\n",
       "          'year': 2016,\n",
       "          'day': 27,\n",
       "          'min': 0,\n",
       "          'month': 8}},\n",
       "        'or_city': 'San Diego',\n",
       "        'duration_days': 6},\n",
       "       'price': 1267.86,\n",
       "       'hotel': {'gst_rating': 8.8,\n",
       "        'vicinity': [],\n",
       "        'name': 'Obsidian Gem Inn',\n",
       "        'country': 'Canada',\n",
       "        'amenities': ['FREE_BREAKFAST', 'FREE_PARKING', 'FREE_WIFI'],\n",
       "        'dst_city': 'Vancouver',\n",
       "        'category': '4.0 star hotel'}}]],\n",
       "    'search': [{'ORIGIN_CITY': 'Diagon Alley',\n",
       "      'NUM_ADULTS': '1',\n",
       "      'RESULT_LIMIT': '10',\n",
       "      'timestamp': 1471278735.966,\n",
       "      'DESTINATION_CITY': 'Neverland',\n",
       "      'PRICE_MAX': '3400'}]},\n",
       "   'text': 'Neverland is unavailable.  Vancouver would be available, however.  Would you like to select another location?',\n",
       "   'labels': {'acts': [{'args': [{'val': [{'annotations': [{'val': 'Neverland',\n",
       "            'key': 'dst_city'}],\n",
       "          'frame': 2,\n",
       "          'fromrange': False}],\n",
       "        'key': 'ref'}],\n",
       "      'name': 'no_result'},\n",
       "     {'args': [{'val': 'Vancouver', 'key': 'dst_city'},\n",
       "       {'val': 3, 'key': 'id'}],\n",
       "      'name': 'suggest'},\n",
       "     {'args': [{'key': 'dst_city'}], 'name': 'suggest'}],\n",
       "    'active_frame': 2,\n",
       "    'frames': [{'info': {'intent': [{'val': 'book', 'negated': False}],\n",
       "       'budget': [{'val': '3400.0', 'negated': False}],\n",
       "       'dst_city': [{'val': 'Coruscant', 'negated': False}],\n",
       "       'or_city': [{'val': 'Diagon Alley', 'negated': False}],\n",
       "       'str_date': [{'val': '-1', 'negated': False}],\n",
       "       'end_date': [{'val': '-1', 'negated': False}],\n",
       "       'n_adults': [{'val': '1', 'negated': False}],\n",
       "       'NO_RESULT': [{'val': True, 'negated': False}]},\n",
       "      'frame_id': 1,\n",
       "      'requests': [],\n",
       "      'frame_parent_id': None,\n",
       "      'binary_questions': [],\n",
       "      'compare_requests': []},\n",
       "     {'info': {'intent': [{'val': 'book', 'negated': False}],\n",
       "       'budget': [{'val': '3400.0', 'negated': False}],\n",
       "       'dst_city': [{'val': 'Neverland', 'negated': False}],\n",
       "       'or_city': [{'val': 'Diagon Alley', 'negated': False}],\n",
       "       'str_date': [{'val': '-1', 'negated': False}],\n",
       "       'end_date': [{'val': '-1', 'negated': False}],\n",
       "       'n_adults': [{'val': '1', 'negated': False}],\n",
       "       'NO_RESULT': [{'val': True, 'negated': False}]},\n",
       "      'frame_id': 2,\n",
       "      'requests': [],\n",
       "      'frame_parent_id': 1,\n",
       "      'binary_questions': [],\n",
       "      'compare_requests': []},\n",
       "     {'info': {'intent': [{'val': 'book', 'negated': False}],\n",
       "       'budget': [{'val': '3400.0', 'negated': False}],\n",
       "       'dst_city': [{'val': 'Vancouver', 'negated': False}],\n",
       "       'or_city': [{'val': 'Diagon Alley', 'negated': False}],\n",
       "       'str_date': [{'val': '-1', 'negated': False}],\n",
       "       'end_date': [{'val': '-1', 'negated': False}],\n",
       "       'n_adults': [{'val': '1', 'negated': False}]},\n",
       "      'frame_id': 3,\n",
       "      'requests': [],\n",
       "      'frame_parent_id': 2,\n",
       "      'binary_questions': [],\n",
       "      'compare_requests': []}]},\n",
       "   'author': 'wizard',\n",
       "   'timestamp': 1471278812062.0},\n",
       "  {'text': 'No I cannot do another location. What if I increased my budget by $400?',\n",
       "   'labels': {'acts': [{'args': [{'val': [{'annotations': [{'val': None,\n",
       "            'key': 'dst_city'}],\n",
       "          'frame': 4,\n",
       "          'fromrange': False}],\n",
       "        'key': 'ref'}],\n",
       "      'name': 'negate'},\n",
       "     {'args': [{'val': 'increased my budget by $400', 'key': 'budget'},\n",
       "       {'val': [{'annotations': [{'key': 'budget'}],\n",
       "          'frame': 1,\n",
       "          'fromrange': False}],\n",
       "        'key': 'ref'}],\n",
       "      'name': 'inform'}],\n",
       "    'acts_without_refs': [{'args': [{'val': None, 'key': 'dst_city'}],\n",
       "      'name': 'negate'},\n",
       "     {'args': [{'val': 'increased my budget by $400', 'key': 'budget'},\n",
       "       {'val': None, 'key': 'budget'}],\n",
       "      'name': 'inform'}],\n",
       "    'active_frame': 4,\n",
       "    'frames': [{'info': {'intent': [{'val': 'book', 'negated': False}],\n",
       "       'budget': [{'val': '3400.0', 'negated': False}],\n",
       "       'dst_city': [{'val': 'Coruscant', 'negated': False}],\n",
       "       'or_city': [{'val': 'Diagon Alley', 'negated': False}],\n",
       "       'str_date': [{'val': '-1', 'negated': False}],\n",
       "       'end_date': [{'val': '-1', 'negated': False}],\n",
       "       'n_adults': [{'val': '1', 'negated': False}],\n",
       "       'NO_RESULT': [{'val': True, 'negated': False}]},\n",
       "      'frame_id': 1,\n",
       "      'requests': [],\n",
       "      'frame_parent_id': None,\n",
       "      'binary_questions': [],\n",
       "      'compare_requests': []},\n",
       "     {'info': {'intent': [{'val': 'book', 'negated': False}],\n",
       "       'budget': [{'val': '3400.0', 'negated': False}],\n",
       "       'dst_city': [{'val': 'Neverland', 'negated': False}],\n",
       "       'or_city': [{'val': 'Diagon Alley', 'negated': False}],\n",
       "       'str_date': [{'val': '-1', 'negated': False}],\n",
       "       'end_date': [{'val': '-1', 'negated': False}],\n",
       "       'n_adults': [{'val': '1', 'negated': False}],\n",
       "       'NO_RESULT': [{'val': True, 'negated': False}]},\n",
       "      'frame_id': 2,\n",
       "      'requests': [],\n",
       "      'frame_parent_id': 1,\n",
       "      'binary_questions': [],\n",
       "      'compare_requests': []},\n",
       "     {'info': {'intent': [{'val': 'book', 'negated': False}],\n",
       "       'budget': [{'val': '3400.0', 'negated': False}],\n",
       "       'dst_city': [{'val': 'Vancouver', 'negated': False}],\n",
       "       'or_city': [{'val': 'Diagon Alley', 'negated': False}],\n",
       "       'str_date': [{'val': '-1', 'negated': False}],\n",
       "       'end_date': [{'val': '-1', 'negated': False}],\n",
       "       'n_adults': [{'val': '1', 'negated': False}]},\n",
       "      'frame_id': 3,\n",
       "      'requests': [],\n",
       "      'frame_parent_id': 2,\n",
       "      'binary_questions': [],\n",
       "      'compare_requests': []},\n",
       "     {'info': {'intent': [{'val': 'book', 'negated': False}],\n",
       "       'budget': [{'val': '3800.0', 'negated': False}],\n",
       "       'dst_city': [{'val': 'Coruscant', 'negated': True}],\n",
       "       'or_city': [{'val': 'Diagon Alley', 'negated': False}],\n",
       "       'str_date': [{'val': '-1', 'negated': False}],\n",
       "       'end_date': [{'val': '-1', 'negated': False}],\n",
       "       'n_adults': [{'val': '1', 'negated': False}]},\n",
       "      'frame_id': 4,\n",
       "      'requests': [],\n",
       "      'frame_parent_id': 1,\n",
       "      'binary_questions': [],\n",
       "      'compare_requests': []}]},\n",
       "   'author': 'user',\n",
       "   'timestamp': 1471278865815.0},\n",
       "  {'db': {'result': [[{'trip': {'returning': {'duration': {'hours': 0,\n",
       "          'min': 44},\n",
       "         'arrival': {'hour': 3,\n",
       "          'year': 2016,\n",
       "          'day': 26,\n",
       "          'min': 44,\n",
       "          'month': 8},\n",
       "         'departure': {'hour': 3,\n",
       "          'year': 2016,\n",
       "          'day': 26,\n",
       "          'min': 0,\n",
       "          'month': 8}},\n",
       "        'seat': 'BUSINESS',\n",
       "        'leaving': {'duration': {'hours': 0, 'min': 44},\n",
       "         'arrival': {'hour': 11,\n",
       "          'year': 2016,\n",
       "          'day': 19,\n",
       "          'min': 44,\n",
       "          'month': 8},\n",
       "         'departure': {'hour': 11,\n",
       "          'year': 2016,\n",
       "          'day': 19,\n",
       "          'min': 0,\n",
       "          'month': 8}},\n",
       "        'or_city': 'Calgary',\n",
       "        'duration_days': 7},\n",
       "       'price': 732.38,\n",
       "       'hotel': {'gst_rating': 8.8,\n",
       "        'vicinity': [],\n",
       "        'name': 'Obsidian Gem Inn',\n",
       "        'country': 'Canada',\n",
       "        'amenities': ['FREE_BREAKFAST', 'FREE_PARKING', 'FREE_WIFI'],\n",
       "        'dst_city': 'Vancouver',\n",
       "        'category': '4.0 star hotel'}},\n",
       "      {'trip': {'returning': {'duration': {'hours': 0, 'min': 47},\n",
       "         'arrival': {'hour': 6,\n",
       "          'year': 2016,\n",
       "          'day': 29,\n",
       "          'min': 47,\n",
       "          'month': 8},\n",
       "         'departure': {'hour': 6,\n",
       "          'year': 2016,\n",
       "          'day': 29,\n",
       "          'min': 0,\n",
       "          'month': 8}},\n",
       "        'seat': 'BUSINESS',\n",
       "        'leaving': {'duration': {'hours': 0, 'min': 47},\n",
       "         'arrival': {'hour': 14,\n",
       "          'year': 2016,\n",
       "          'day': 19,\n",
       "          'min': 47,\n",
       "          'month': 8},\n",
       "         'departure': {'hour': 14,\n",
       "          'year': 2016,\n",
       "          'day': 19,\n",
       "          'min': 0,\n",
       "          'month': 8}},\n",
       "        'or_city': 'Dublin',\n",
       "        'duration_days': 10},\n",
       "       'price': 751.44,\n",
       "       'hotel': {'gst_rating': 8.8,\n",
       "        'vicinity': [],\n",
       "        'name': 'Obsidian Gem Inn',\n",
       "        'country': 'Canada',\n",
       "        'amenities': ['FREE_BREAKFAST', 'FREE_PARKING', 'FREE_WIFI'],\n",
       "        'dst_city': 'Vancouver',\n",
       "        'category': '4.0 star hotel'}},\n",
       "      {'trip': {'returning': {'duration': {'hours': 0, 'min': 44},\n",
       "         'arrival': {'hour': 3, 'year': 2016, 'day': 3, 'min': 44, 'month': 9},\n",
       "         'departure': {'hour': 3,\n",
       "          'year': 2016,\n",
       "          'day': 3,\n",
       "          'min': 0,\n",
       "          'month': 9}},\n",
       "        'seat': 'BUSINESS',\n",
       "        'leaving': {'duration': {'hours': 0, 'min': 44},\n",
       "         'arrival': {'hour': 11,\n",
       "          'year': 2016,\n",
       "          'day': 27,\n",
       "          'min': 44,\n",
       "          'month': 8},\n",
       "         'departure': {'hour': 11,\n",
       "          'year': 2016,\n",
       "          'day': 27,\n",
       "          'min': 0,\n",
       "          'month': 8}},\n",
       "        'or_city': 'Calgary',\n",
       "        'duration_days': 7},\n",
       "       'price': 810.5,\n",
       "       'hotel': {'gst_rating': 8.8,\n",
       "        'vicinity': [],\n",
       "        'name': 'Obsidian Gem Inn',\n",
       "        'country': 'Canada',\n",
       "        'amenities': ['FREE_BREAKFAST', 'FREE_PARKING', 'FREE_WIFI'],\n",
       "        'dst_city': 'Vancouver',\n",
       "        'category': '4.0 star hotel'}},\n",
       "      {'trip': {'returning': {'duration': {'hours': 2, 'min': 2},\n",
       "         'arrival': {'hour': 4, 'year': 2016, 'day': 25, 'min': 2, 'month': 8},\n",
       "         'departure': {'hour': 2,\n",
       "          'year': 2016,\n",
       "          'day': 25,\n",
       "          'min': 0,\n",
       "          'month': 8}},\n",
       "        'seat': 'BUSINESS',\n",
       "        'leaving': {'duration': {'hours': 2, 'min': 2},\n",
       "         'arrival': {'hour': 12,\n",
       "          'year': 2016,\n",
       "          'day': 19,\n",
       "          'min': 2,\n",
       "          'month': 8},\n",
       "         'departure': {'hour': 10,\n",
       "          'year': 2016,\n",
       "          'day': 19,\n",
       "          'min': 0,\n",
       "          'month': 8}},\n",
       "        'or_city': 'San Diego',\n",
       "        'duration_days': 6},\n",
       "       'price': 1074.52,\n",
       "       'hotel': {'gst_rating': 8.8,\n",
       "        'vicinity': [],\n",
       "        'name': 'Obsidian Gem Inn',\n",
       "        'country': 'Canada',\n",
       "        'amenities': ['FREE_BREAKFAST', 'FREE_PARKING', 'FREE_WIFI'],\n",
       "        'dst_city': 'Vancouver',\n",
       "        'category': '4.0 star hotel'}},\n",
       "      {'trip': {'returning': {'duration': {'hours': 2, 'min': 2},\n",
       "         'arrival': {'hour': 4, 'year': 2016, 'day': 2, 'min': 2, 'month': 9},\n",
       "         'departure': {'hour': 2,\n",
       "          'year': 2016,\n",
       "          'day': 2,\n",
       "          'min': 0,\n",
       "          'month': 9}},\n",
       "        'seat': 'BUSINESS',\n",
       "        'leaving': {'duration': {'hours': 2, 'min': 2},\n",
       "         'arrival': {'hour': 12,\n",
       "          'year': 2016,\n",
       "          'day': 27,\n",
       "          'min': 2,\n",
       "          'month': 8},\n",
       "         'departure': {'hour': 10,\n",
       "          'year': 2016,\n",
       "          'day': 27,\n",
       "          'min': 0,\n",
       "          'month': 8}},\n",
       "        'or_city': 'San Diego',\n",
       "        'duration_days': 6},\n",
       "       'price': 1267.86,\n",
       "       'hotel': {'gst_rating': 8.8,\n",
       "        'vicinity': [],\n",
       "        'name': 'Obsidian Gem Inn',\n",
       "        'country': 'Canada',\n",
       "        'amenities': ['FREE_BREAKFAST', 'FREE_PARKING', 'FREE_WIFI'],\n",
       "        'dst_city': 'Vancouver',\n",
       "        'category': '4.0 star hotel'}}]],\n",
       "    'search': [{'ORIGIN_CITY': 'Diagon Alley',\n",
       "      'NUM_ADULTS': '1',\n",
       "      'RESULT_LIMIT': '10',\n",
       "      'timestamp': 1471278880.319,\n",
       "      'DESTINATION_CITY': 'Neverland',\n",
       "      'PRICE_MAX': '3800'}]},\n",
       "   'text': 'I am sorry, but we do not have any trips available to the Neverland travel destination.',\n",
       "   'labels': {'acts': [{'args': [], 'name': 'sorry'},\n",
       "     {'args': [{'val': [{'annotations': [{'val': 'Neverland',\n",
       "            'key': 'dst_city'}],\n",
       "          'frame': 4,\n",
       "          'fromrange': False}],\n",
       "        'key': 'ref'}],\n",
       "      'name': 'no_result'}],\n",
       "    'active_frame': 4,\n",
       "    'frames': [{'info': {'intent': [{'val': 'book', 'negated': False}],\n",
       "       'budget': [{'val': '3400.0', 'negated': False}],\n",
       "       'dst_city': [{'val': 'Coruscant', 'negated': False}],\n",
       "       'or_city': [{'val': 'Diagon Alley', 'negated': False}],\n",
       "       'str_date': [{'val': '-1', 'negated': False}],\n",
       "       'end_date': [{'val': '-1', 'negated': False}],\n",
       "       'n_adults': [{'val': '1', 'negated': False}],\n",
       "       'NO_RESULT': [{'val': True, 'negated': False}]},\n",
       "      'frame_id': 1,\n",
       "      'requests': [],\n",
       "      'frame_parent_id': None,\n",
       "      'binary_questions': [],\n",
       "      'compare_requests': []},\n",
       "     {'info': {'intent': [{'val': 'book', 'negated': False}],\n",
       "       'budget': [{'val': '3400.0', 'negated': False}],\n",
       "       'dst_city': [{'val': 'Neverland', 'negated': False}],\n",
       "       'or_city': [{'val': 'Diagon Alley', 'negated': False}],\n",
       "       'str_date': [{'val': '-1', 'negated': False}],\n",
       "       'end_date': [{'val': '-1', 'negated': False}],\n",
       "       'n_adults': [{'val': '1', 'negated': False}],\n",
       "       'NO_RESULT': [{'val': True, 'negated': False}]},\n",
       "      'frame_id': 2,\n",
       "      'requests': [],\n",
       "      'frame_parent_id': 1,\n",
       "      'binary_questions': [],\n",
       "      'compare_requests': []},\n",
       "     {'info': {'intent': [{'val': 'book', 'negated': False}],\n",
       "       'budget': [{'val': '3400.0', 'negated': False}],\n",
       "       'dst_city': [{'val': 'Vancouver', 'negated': False}],\n",
       "       'or_city': [{'val': 'Diagon Alley', 'negated': False}],\n",
       "       'str_date': [{'val': '-1', 'negated': False}],\n",
       "       'end_date': [{'val': '-1', 'negated': False}],\n",
       "       'n_adults': [{'val': '1', 'negated': False}]},\n",
       "      'frame_id': 3,\n",
       "      'requests': [],\n",
       "      'frame_parent_id': 2,\n",
       "      'binary_questions': [],\n",
       "      'compare_requests': []},\n",
       "     {'info': {'intent': [{'val': 'book', 'negated': False}],\n",
       "       'budget': [{'val': '3800.0', 'negated': False}],\n",
       "       'dst_city': [{'val': 'Coruscant', 'negated': True}],\n",
       "       'or_city': [{'val': 'Diagon Alley', 'negated': False}],\n",
       "       'str_date': [{'val': '-1', 'negated': False}],\n",
       "       'end_date': [{'val': '-1', 'negated': False}],\n",
       "       'n_adults': [{'val': '1', 'negated': False}],\n",
       "       'NO_RESULT': [{'val': True, 'negated': False}]},\n",
       "      'frame_id': 4,\n",
       "      'requests': [],\n",
       "      'frame_parent_id': 1,\n",
       "      'binary_questions': [],\n",
       "      'compare_requests': []}]},\n",
       "   'author': 'wizard',\n",
       "   'timestamp': 1471278947890.0},\n",
       "  {'text': 'nor Coruscant?',\n",
       "   'labels': {'acts': [{'args': [{'val': 'Coruscant', 'key': 'dst_city'}],\n",
       "      'name': 'inform'}],\n",
       "    'acts_without_refs': [{'args': [{'val': 'Coruscant', 'key': 'dst_city'}],\n",
       "      'name': 'inform'}],\n",
       "    'active_frame': 5,\n",
       "    'frames': [{'info': {'intent': [{'val': 'book', 'negated': False}],\n",
       "       'budget': [{'val': '3400.0', 'negated': False}],\n",
       "       'dst_city': [{'val': 'Coruscant', 'negated': False}],\n",
       "       'or_city': [{'val': 'Diagon Alley', 'negated': False}],\n",
       "       'str_date': [{'val': '-1', 'negated': False}],\n",
       "       'end_date': [{'val': '-1', 'negated': False}],\n",
       "       'n_adults': [{'val': '1', 'negated': False}],\n",
       "       'NO_RESULT': [{'val': True, 'negated': False}]},\n",
       "      'frame_id': 1,\n",
       "      'requests': [],\n",
       "      'frame_parent_id': None,\n",
       "      'binary_questions': [],\n",
       "      'compare_requests': []},\n",
       "     {'info': {'intent': [{'val': 'book', 'negated': False}],\n",
       "       'budget': [{'val': '3400.0', 'negated': False}],\n",
       "       'dst_city': [{'val': 'Neverland', 'negated': False}],\n",
       "       'or_city': [{'val': 'Diagon Alley', 'negated': False}],\n",
       "       'str_date': [{'val': '-1', 'negated': False}],\n",
       "       'end_date': [{'val': '-1', 'negated': False}],\n",
       "       'n_adults': [{'val': '1', 'negated': False}],\n",
       "       'NO_RESULT': [{'val': True, 'negated': False}]},\n",
       "      'frame_id': 2,\n",
       "      'requests': [],\n",
       "      'frame_parent_id': 1,\n",
       "      'binary_questions': [],\n",
       "      'compare_requests': []},\n",
       "     {'info': {'intent': [{'val': 'book', 'negated': False}],\n",
       "       'budget': [{'val': '3400.0', 'negated': False}],\n",
       "       'dst_city': [{'val': 'Vancouver', 'negated': False}],\n",
       "       'or_city': [{'val': 'Diagon Alley', 'negated': False}],\n",
       "       'str_date': [{'val': '-1', 'negated': False}],\n",
       "       'end_date': [{'val': '-1', 'negated': False}],\n",
       "       'n_adults': [{'val': '1', 'negated': False}]},\n",
       "      'frame_id': 3,\n",
       "      'requests': [],\n",
       "      'frame_parent_id': 2,\n",
       "      'binary_questions': [],\n",
       "      'compare_requests': []},\n",
       "     {'info': {'intent': [{'val': 'book', 'negated': False}],\n",
       "       'budget': [{'val': '3800.0', 'negated': False}],\n",
       "       'dst_city': [{'val': 'Coruscant', 'negated': True}],\n",
       "       'or_city': [{'val': 'Diagon Alley', 'negated': False}],\n",
       "       'str_date': [{'val': '-1', 'negated': False}],\n",
       "       'end_date': [{'val': '-1', 'negated': False}],\n",
       "       'n_adults': [{'val': '1', 'negated': False}],\n",
       "       'NO_RESULT': [{'val': True, 'negated': False}]},\n",
       "      'frame_id': 4,\n",
       "      'requests': [],\n",
       "      'frame_parent_id': 1,\n",
       "      'binary_questions': [],\n",
       "      'compare_requests': []},\n",
       "     {'info': {'intent': [{'val': 'book', 'negated': False}],\n",
       "       'budget': [{'val': '3400.0', 'negated': False}],\n",
       "       'dst_city': [{'val': 'Coruscant', 'negated': False}],\n",
       "       'or_city': [{'val': 'Diagon Alley', 'negated': False}],\n",
       "       'str_date': [{'val': '-1', 'negated': False}],\n",
       "       'end_date': [{'val': '-1', 'negated': False}],\n",
       "       'n_adults': [{'val': '1', 'negated': False}]},\n",
       "      'frame_id': 5,\n",
       "      'requests': [],\n",
       "      'frame_parent_id': 1,\n",
       "      'binary_questions': [],\n",
       "      'compare_requests': []}]},\n",
       "   'author': 'user',\n",
       "   'timestamp': 1471278987174.0},\n",
       "  {'db': {'result': [[{'trip': {'returning': {'duration': {'hours': 0,\n",
       "          'min': 44},\n",
       "         'arrival': {'hour': 3,\n",
       "          'year': 2016,\n",
       "          'day': 26,\n",
       "          'min': 44,\n",
       "          'month': 8},\n",
       "         'departure': {'hour': 3,\n",
       "          'year': 2016,\n",
       "          'day': 26,\n",
       "          'min': 0,\n",
       "          'month': 8}},\n",
       "        'seat': 'BUSINESS',\n",
       "        'leaving': {'duration': {'hours': 0, 'min': 44},\n",
       "         'arrival': {'hour': 11,\n",
       "          'year': 2016,\n",
       "          'day': 19,\n",
       "          'min': 44,\n",
       "          'month': 8},\n",
       "         'departure': {'hour': 11,\n",
       "          'year': 2016,\n",
       "          'day': 19,\n",
       "          'min': 0,\n",
       "          'month': 8}},\n",
       "        'or_city': 'Calgary',\n",
       "        'duration_days': 7},\n",
       "       'price': 732.38,\n",
       "       'hotel': {'gst_rating': 8.8,\n",
       "        'vicinity': [],\n",
       "        'name': 'Obsidian Gem Inn',\n",
       "        'country': 'Canada',\n",
       "        'amenities': ['FREE_BREAKFAST', 'FREE_PARKING', 'FREE_WIFI'],\n",
       "        'dst_city': 'Vancouver',\n",
       "        'category': '4.0 star hotel'}},\n",
       "      {'trip': {'returning': {'duration': {'hours': 0, 'min': 47},\n",
       "         'arrival': {'hour': 6,\n",
       "          'year': 2016,\n",
       "          'day': 29,\n",
       "          'min': 47,\n",
       "          'month': 8},\n",
       "         'departure': {'hour': 6,\n",
       "          'year': 2016,\n",
       "          'day': 29,\n",
       "          'min': 0,\n",
       "          'month': 8}},\n",
       "        'seat': 'BUSINESS',\n",
       "        'leaving': {'duration': {'hours': 0, 'min': 47},\n",
       "         'arrival': {'hour': 14,\n",
       "          'year': 2016,\n",
       "          'day': 19,\n",
       "          'min': 47,\n",
       "          'month': 8},\n",
       "         'departure': {'hour': 14,\n",
       "          'year': 2016,\n",
       "          'day': 19,\n",
       "          'min': 0,\n",
       "          'month': 8}},\n",
       "        'or_city': 'Dublin',\n",
       "        'duration_days': 10},\n",
       "       'price': 751.44,\n",
       "       'hotel': {'gst_rating': 8.8,\n",
       "        'vicinity': [],\n",
       "        'name': 'Obsidian Gem Inn',\n",
       "        'country': 'Canada',\n",
       "        'amenities': ['FREE_BREAKFAST', 'FREE_PARKING', 'FREE_WIFI'],\n",
       "        'dst_city': 'Vancouver',\n",
       "        'category': '4.0 star hotel'}},\n",
       "      {'trip': {'returning': {'duration': {'hours': 0, 'min': 44},\n",
       "         'arrival': {'hour': 3, 'year': 2016, 'day': 3, 'min': 44, 'month': 9},\n",
       "         'departure': {'hour': 3,\n",
       "          'year': 2016,\n",
       "          'day': 3,\n",
       "          'min': 0,\n",
       "          'month': 9}},\n",
       "        'seat': 'BUSINESS',\n",
       "        'leaving': {'duration': {'hours': 0, 'min': 44},\n",
       "         'arrival': {'hour': 11,\n",
       "          'year': 2016,\n",
       "          'day': 27,\n",
       "          'min': 44,\n",
       "          'month': 8},\n",
       "         'departure': {'hour': 11,\n",
       "          'year': 2016,\n",
       "          'day': 27,\n",
       "          'min': 0,\n",
       "          'month': 8}},\n",
       "        'or_city': 'Calgary',\n",
       "        'duration_days': 7},\n",
       "       'price': 810.5,\n",
       "       'hotel': {'gst_rating': 8.8,\n",
       "        'vicinity': [],\n",
       "        'name': 'Obsidian Gem Inn',\n",
       "        'country': 'Canada',\n",
       "        'amenities': ['FREE_BREAKFAST', 'FREE_PARKING', 'FREE_WIFI'],\n",
       "        'dst_city': 'Vancouver',\n",
       "        'category': '4.0 star hotel'}},\n",
       "      {'trip': {'returning': {'duration': {'hours': 2, 'min': 2},\n",
       "         'arrival': {'hour': 4, 'year': 2016, 'day': 25, 'min': 2, 'month': 8},\n",
       "         'departure': {'hour': 2,\n",
       "          'year': 2016,\n",
       "          'day': 25,\n",
       "          'min': 0,\n",
       "          'month': 8}},\n",
       "        'seat': 'BUSINESS',\n",
       "        'leaving': {'duration': {'hours': 2, 'min': 2},\n",
       "         'arrival': {'hour': 12,\n",
       "          'year': 2016,\n",
       "          'day': 19,\n",
       "          'min': 2,\n",
       "          'month': 8},\n",
       "         'departure': {'hour': 10,\n",
       "          'year': 2016,\n",
       "          'day': 19,\n",
       "          'min': 0,\n",
       "          'month': 8}},\n",
       "        'or_city': 'San Diego',\n",
       "        'duration_days': 6},\n",
       "       'price': 1074.52,\n",
       "       'hotel': {'gst_rating': 8.8,\n",
       "        'vicinity': [],\n",
       "        'name': 'Obsidian Gem Inn',\n",
       "        'country': 'Canada',\n",
       "        'amenities': ['FREE_BREAKFAST', 'FREE_PARKING', 'FREE_WIFI'],\n",
       "        'dst_city': 'Vancouver',\n",
       "        'category': '4.0 star hotel'}},\n",
       "      {'trip': {'returning': {'duration': {'hours': 2, 'min': 2},\n",
       "         'arrival': {'hour': 4, 'year': 2016, 'day': 2, 'min': 2, 'month': 9},\n",
       "         'departure': {'hour': 2,\n",
       "          'year': 2016,\n",
       "          'day': 2,\n",
       "          'min': 0,\n",
       "          'month': 9}},\n",
       "        'seat': 'BUSINESS',\n",
       "        'leaving': {'duration': {'hours': 2, 'min': 2},\n",
       "         'arrival': {'hour': 12,\n",
       "          'year': 2016,\n",
       "          'day': 27,\n",
       "          'min': 2,\n",
       "          'month': 8},\n",
       "         'departure': {'hour': 10,\n",
       "          'year': 2016,\n",
       "          'day': 27,\n",
       "          'min': 0,\n",
       "          'month': 8}},\n",
       "        'or_city': 'San Diego',\n",
       "        'duration_days': 6},\n",
       "       'price': 1267.86,\n",
       "       'hotel': {'gst_rating': 8.8,\n",
       "        'vicinity': [],\n",
       "        'name': 'Obsidian Gem Inn',\n",
       "        'country': 'Canada',\n",
       "        'amenities': ['FREE_BREAKFAST', 'FREE_PARKING', 'FREE_WIFI'],\n",
       "        'dst_city': 'Vancouver',\n",
       "        'category': '4.0 star hotel'}}]],\n",
       "    'search': [{'ORIGIN_CITY': 'Diagon Alley',\n",
       "      'NUM_ADULTS': '1',\n",
       "      'RESULT_LIMIT': '10',\n",
       "      'timestamp': 1471279012.424,\n",
       "      'DESTINATION_CITY': 'Coruscant',\n",
       "      'PRICE_MAX': '3800'}]},\n",
       "   'text': 'Coruscant is not available either.',\n",
       "   'labels': {'acts': [{'args': [{'val': [{'annotations': [{'val': 'Coruscant',\n",
       "            'key': 'dst_city'}],\n",
       "          'frame': 5,\n",
       "          'fromrange': False}],\n",
       "        'key': 'ref'}],\n",
       "      'name': 'no_result'}],\n",
       "    'active_frame': 5,\n",
       "    'frames': [{'info': {'intent': [{'val': 'book', 'negated': False}],\n",
       "       'budget': [{'val': '3400.0', 'negated': False}],\n",
       "       'dst_city': [{'val': 'Coruscant', 'negated': False}],\n",
       "       'or_city': [{'val': 'Diagon Alley', 'negated': False}],\n",
       "       'str_date': [{'val': '-1', 'negated': False}],\n",
       "       'end_date': [{'val': '-1', 'negated': False}],\n",
       "       'n_adults': [{'val': '1', 'negated': False}],\n",
       "       'NO_RESULT': [{'val': True, 'negated': False}]},\n",
       "      'frame_id': 1,\n",
       "      'requests': [],\n",
       "      'frame_parent_id': None,\n",
       "      'binary_questions': [],\n",
       "      'compare_requests': []},\n",
       "     {'info': {'intent': [{'val': 'book', 'negated': False}],\n",
       "       'budget': [{'val': '3400.0', 'negated': False}],\n",
       "       'dst_city': [{'val': 'Neverland', 'negated': False}],\n",
       "       'or_city': [{'val': 'Diagon Alley', 'negated': False}],\n",
       "       'str_date': [{'val': '-1', 'negated': False}],\n",
       "       'end_date': [{'val': '-1', 'negated': False}],\n",
       "       'n_adults': [{'val': '1', 'negated': False}],\n",
       "       'NO_RESULT': [{'val': True, 'negated': False}]},\n",
       "      'frame_id': 2,\n",
       "      'requests': [],\n",
       "      'frame_parent_id': 1,\n",
       "      'binary_questions': [],\n",
       "      'compare_requests': []},\n",
       "     {'info': {'intent': [{'val': 'book', 'negated': False}],\n",
       "       'budget': [{'val': '3400.0', 'negated': False}],\n",
       "       'dst_city': [{'val': 'Vancouver', 'negated': False}],\n",
       "       'or_city': [{'val': 'Diagon Alley', 'negated': False}],\n",
       "       'str_date': [{'val': '-1', 'negated': False}],\n",
       "       'end_date': [{'val': '-1', 'negated': False}],\n",
       "       'n_adults': [{'val': '1', 'negated': False}]},\n",
       "      'frame_id': 3,\n",
       "      'requests': [],\n",
       "      'frame_parent_id': 2,\n",
       "      'binary_questions': [],\n",
       "      'compare_requests': []},\n",
       "     {'info': {'intent': [{'val': 'book', 'negated': False}],\n",
       "       'budget': [{'val': '3800.0', 'negated': False}],\n",
       "       'dst_city': [{'val': 'Coruscant', 'negated': True}],\n",
       "       'or_city': [{'val': 'Diagon Alley', 'negated': False}],\n",
       "       'str_date': [{'val': '-1', 'negated': False}],\n",
       "       'end_date': [{'val': '-1', 'negated': False}],\n",
       "       'n_adults': [{'val': '1', 'negated': False}],\n",
       "       'NO_RESULT': [{'val': True, 'negated': False}]},\n",
       "      'frame_id': 4,\n",
       "      'requests': [],\n",
       "      'frame_parent_id': 1,\n",
       "      'binary_questions': [],\n",
       "      'compare_requests': []},\n",
       "     {'info': {'intent': [{'val': 'book', 'negated': False}],\n",
       "       'budget': [{'val': '3400.0', 'negated': False}],\n",
       "       'dst_city': [{'val': 'Coruscant', 'negated': False}],\n",
       "       'or_city': [{'val': 'Diagon Alley', 'negated': False}],\n",
       "       'str_date': [{'val': '-1', 'negated': False}],\n",
       "       'end_date': [{'val': '-1', 'negated': False}],\n",
       "       'n_adults': [{'val': '1', 'negated': False}],\n",
       "       'NO_RESULT': [{'val': True, 'negated': False}]},\n",
       "      'frame_id': 5,\n",
       "      'requests': [],\n",
       "      'frame_parent_id': 1,\n",
       "      'binary_questions': [],\n",
       "      'compare_requests': []}]},\n",
       "   'author': 'wizard',\n",
       "   'timestamp': 1471279042830},\n",
       "  {'text': 'Ok thanks.',\n",
       "   'labels': {'acts': [{'args': [], 'name': 'thankyou'}],\n",
       "    'acts_without_refs': [{'args': [], 'name': 'thankyou'}],\n",
       "    'active_frame': 5,\n",
       "    'frames': [{'info': {'intent': [{'val': 'book', 'negated': False}],\n",
       "       'budget': [{'val': '3400.0', 'negated': False}],\n",
       "       'dst_city': [{'val': 'Coruscant', 'negated': False}],\n",
       "       'or_city': [{'val': 'Diagon Alley', 'negated': False}],\n",
       "       'str_date': [{'val': '-1', 'negated': False}],\n",
       "       'end_date': [{'val': '-1', 'negated': False}],\n",
       "       'n_adults': [{'val': '1', 'negated': False}],\n",
       "       'NO_RESULT': [{'val': True, 'negated': False}]},\n",
       "      'frame_id': 1,\n",
       "      'requests': [],\n",
       "      'frame_parent_id': None,\n",
       "      'binary_questions': [],\n",
       "      'compare_requests': []},\n",
       "     {'info': {'intent': [{'val': 'book', 'negated': False}],\n",
       "       'budget': [{'val': '3400.0', 'negated': False}],\n",
       "       'dst_city': [{'val': 'Neverland', 'negated': False}],\n",
       "       'or_city': [{'val': 'Diagon Alley', 'negated': False}],\n",
       "       'str_date': [{'val': '-1', 'negated': False}],\n",
       "       'end_date': [{'val': '-1', 'negated': False}],\n",
       "       'n_adults': [{'val': '1', 'negated': False}],\n",
       "       'NO_RESULT': [{'val': True, 'negated': False}]},\n",
       "      'frame_id': 2,\n",
       "      'requests': [],\n",
       "      'frame_parent_id': 1,\n",
       "      'binary_questions': [],\n",
       "      'compare_requests': []},\n",
       "     {'info': {'intent': [{'val': 'book', 'negated': False}],\n",
       "       'budget': [{'val': '3400.0', 'negated': False}],\n",
       "       'dst_city': [{'val': 'Vancouver', 'negated': False}],\n",
       "       'or_city': [{'val': 'Diagon Alley', 'negated': False}],\n",
       "       'str_date': [{'val': '-1', 'negated': False}],\n",
       "       'end_date': [{'val': '-1', 'negated': False}],\n",
       "       'n_adults': [{'val': '1', 'negated': False}]},\n",
       "      'frame_id': 3,\n",
       "      'requests': [],\n",
       "      'frame_parent_id': 2,\n",
       "      'binary_questions': [],\n",
       "      'compare_requests': []},\n",
       "     {'info': {'intent': [{'val': 'book', 'negated': False}],\n",
       "       'budget': [{'val': '3800.0', 'negated': False}],\n",
       "       'dst_city': [{'val': 'Coruscant', 'negated': True}],\n",
       "       'or_city': [{'val': 'Diagon Alley', 'negated': False}],\n",
       "       'str_date': [{'val': '-1', 'negated': False}],\n",
       "       'end_date': [{'val': '-1', 'negated': False}],\n",
       "       'n_adults': [{'val': '1', 'negated': False}],\n",
       "       'NO_RESULT': [{'val': True, 'negated': False}]},\n",
       "      'frame_id': 4,\n",
       "      'requests': [],\n",
       "      'frame_parent_id': 1,\n",
       "      'binary_questions': [],\n",
       "      'compare_requests': []},\n",
       "     {'info': {'intent': [{'val': 'book', 'negated': False}],\n",
       "       'budget': [{'val': '3400.0', 'negated': False}],\n",
       "       'dst_city': [{'val': 'Coruscant', 'negated': False}],\n",
       "       'or_city': [{'val': 'Diagon Alley', 'negated': False}],\n",
       "       'str_date': [{'val': '-1', 'negated': False}],\n",
       "       'end_date': [{'val': '-1', 'negated': False}],\n",
       "       'n_adults': [{'val': '1', 'negated': False}],\n",
       "       'NO_RESULT': [{'val': True, 'negated': False}]},\n",
       "      'frame_id': 5,\n",
       "      'requests': [],\n",
       "      'frame_parent_id': 1,\n",
       "      'binary_questions': [],\n",
       "      'compare_requests': []}]},\n",
       "   'author': 'user',\n",
       "   'timestamp': 1471279058445}],\n",
       " 'wizard_id': 'U21DKG18C',\n",
       " 'id': 'e3b2f925-f335-4415-b985-b619da0f1d68',\n",
       " 'labels': {'userSurveyRating': 5.0, 'wizardSurveyTaskSuccessful': True}}"
      ]
     },
     "execution_count": 525,
     "metadata": {},
     "output_type": "execute_result"
    }
   ],
   "source": [
    "data[14]"
   ]
  },
  {
   "cell_type": "code",
   "execution_count": 514,
   "id": "99c864f2",
   "metadata": {},
   "outputs": [],
   "source": [
    "with open(\"small_train.json\", \"w\") as handle:\n",
    "    json.dump(my_json[:50], handle)"
   ]
  },
  {
   "cell_type": "code",
   "execution_count": 252,
   "id": "2bad969d",
   "metadata": {},
   "outputs": [],
   "source": [
    "reesponse = {'query': ' Book a flight from Paris to New-York on March 18, 2022', \n",
    "             'prediction': {'topIntent': 'BookFlight', \n",
    "                            'intents': {'BookFlight': {'score': 0.9576694}, 'GetWeather': {'score': 0.104258}, 'None': {'score': 0.038076818}, 'Cancel': {'score': 4.4975626e-05}}, \n",
    "                            'entities': {'From': [{'Airport': [['Paris']], '$instance': {'Airport': [{'type': 'Airport', 'text': 'Paris', 'startIndex': 20, 'length': 5, 'modelTypeId': 5, 'modelType': 'List Entity Extractor', 'recognitionSources': ['model']}]}}], \n",
    "                                         'datetimeV2': [{'type': 'date', 'values': [{'timex': '2022-03-18', 'resolution': [{'value': '2022-03-18'}]}]}], '$instance': {'From': [{'type': 'From', 'text': 'Paris', 'startIndex': 20, 'length': 5, 'score': 0.95616096, 'modelTypeId': 4, 'modelType': 'Composite Entity Extractor', 'recognitionSources': ['model']}], \n",
    "                                         'datetimeV2': [{'type': 'builtin.datetimeV2.date', 'text': 'March 18, 2022', 'startIndex': 41, 'length': 14, 'modelTypeId': 2, 'modelType': 'Prebuilt Entity Extractor', 'recognitionSources': ['model']}]}}}}"
   ]
  },
  {
   "cell_type": "code",
   "execution_count": 253,
   "id": "795d35d8",
   "metadata": {},
   "outputs": [
    {
     "data": {
      "text/plain": [
       "' Book a flight from Paris to New-York on March 18, 2022'"
      ]
     },
     "execution_count": 253,
     "metadata": {},
     "output_type": "execute_result"
    }
   ],
   "source": [
    "reesponse['query']"
   ]
  },
  {
   "cell_type": "code",
   "execution_count": 257,
   "id": "37784eca",
   "metadata": {},
   "outputs": [
    {
     "data": {
      "text/plain": [
       "{'BookFlight': {'score': 0.9576694},\n",
       " 'GetWeather': {'score': 0.104258},\n",
       " 'None': {'score': 0.038076818},\n",
       " 'Cancel': {'score': 4.4975626e-05}}"
      ]
     },
     "execution_count": 257,
     "metadata": {},
     "output_type": "execute_result"
    }
   ],
   "source": [
    "reesponse['prediction']['intents']"
   ]
  },
  {
   "cell_type": "code",
   "execution_count": 267,
   "id": "b419d46c",
   "metadata": {},
   "outputs": [
    {
     "name": "stdout",
     "output_type": "stream",
     "text": [
      "From : [{'Airport': [['Paris']], '$instance': {'Airport': [{'type': 'Airport', 'text': 'Paris', 'startIndex': 20, 'length': 5, 'modelTypeId': 5, 'modelType': 'List Entity Extractor', 'recognitionSources': ['model']}]}}] \n",
      "\n",
      "datetimeV2 : [{'type': 'date', 'values': [{'timex': '2022-03-18', 'resolution': [{'value': '2022-03-18'}]}]}] \n",
      "\n",
      "$instance : {'From': [{'type': 'From', 'text': 'Paris', 'startIndex': 20, 'length': 5, 'score': 0.95616096, 'modelTypeId': 4, 'modelType': 'Composite Entity Extractor', 'recognitionSources': ['model']}], 'datetimeV2': [{'type': 'builtin.datetimeV2.date', 'text': 'March 18, 2022', 'startIndex': 41, 'length': 14, 'modelTypeId': 2, 'modelType': 'Prebuilt Entity Extractor', 'recognitionSources': ['model']}]} \n",
      "\n"
     ]
    }
   ],
   "source": [
    "for key, value in  reesponse['prediction']['entities'].items(): \n",
    "    print(key,':',value, \"\\n\")"
   ]
  },
  {
   "cell_type": "code",
   "execution_count": null,
   "id": "9196f3b1",
   "metadata": {},
   "outputs": [],
   "source": []
  },
  {
   "cell_type": "code",
   "execution_count": null,
   "id": "6a3400b6",
   "metadata": {},
   "outputs": [],
   "source": [
    "        if 'budget' in data[index]['turns'][0][\"labels\"][\"frames\"][0][\"info\"].keys() :\n",
    "            word = data[index]['turns'][0][\"labels\"][\"frames\"][0][\"info\"]['budget'][0]['val']\n",
    "            #Done to check if the budget in the json is different from text because of float type\n",
    "            if text.find(word) ==-1 :\n",
    "                print(text, word)\n",
    "                z = [float(s) for s in re.findall(r'-?\\d+\\.\\d*', text)]\n",
    "                print (z)\n",
    "                if len(z) != 0 :\n",
    "                    word =[int(x) for i,x in enumerate(z) if x == float(word)][0]\n",
    "                    word = str(word)\n",
    "                elif text.find(word.replace('.', ',')) !=-1 :\n",
    "                    word = word.replace('.', ',')\n",
    "                print(\"word: \", word)\n",
    "            if text.find(word) !=-1 :\n",
    "                word_startCharIndex = text.lower().find(word.lower())\n",
    "                word_endCharIndex = word_startCharIndex+len(word)-1\n",
    "                utterance['entityLabels'].append({\"startCharIndex\": word_startCharIndex,\n",
    "                                                                \"endCharIndex\": word_endCharIndex,\n",
    "                                                                \"entityName\": \"Budget\"})   \n",
    "    "
   ]
  },
  {
   "cell_type": "code",
   "execution_count": null,
   "id": "36b3eddc",
   "metadata": {},
   "outputs": [],
   "source": [
    "        if 'budget' in data[index]['turns'][0][\"labels\"][\"frames\"][0][\"info\"].keys() :\n",
    "            word = data[index]['turns'][0][\"labels\"][\"frames\"][0][\"info\"]['budget'][0]['val']\n",
    "            #Done to check if the budget in the json is different from text because of float type\n",
    "            if text.find(word) ==-1 :\n",
    "                if text.find(word.replace('.', ',')) !=-1 :\n",
    "                    word = word.replace('.', ',')\n",
    "                elif (word.count('.') < 2) & (text.find(str(int(float(word)))) !=0 ):\n",
    "                    word = str(int(float(word)))                \n",
    "                else :\n",
    "                    z = [float(s) for s in re.findall(r'-?\\d+\\.\\d*', text)]\n",
    "                    if len(z) != 0 :\n",
    "                        word =[int(x) for i,x in enumerate(z) if x == float(word)][0]\n",
    "                        word = str(word)\n",
    "            if text.find(word) !=-1 :\n",
    "                word_startCharIndex = text.find(word)\n",
    "                word_endCharIndex = word_startCharIndex+len(word)-1\n",
    "                utterance['entityLabels'].append({\"startCharIndex\": word_startCharIndex,\n",
    "                                                                \"endCharIndex\": word_endCharIndex,\n",
    "                                                                \"entityName\": \"Budget\"})   \n",
    "  "
   ]
  },
  {
   "cell_type": "code",
   "execution_count": null,
   "id": "f8a7c6f8",
   "metadata": {},
   "outputs": [],
   "source": [
    "\n",
    "# _____  Data corresponds to new occurences that need to be taken into account_______\n",
    "data = \"\"\"  [\n",
    "{'text': \"I want a trip budget of 5000 euros\",\n",
    "'intentName': 'BookFlight',\n",
    "'entityLabels': [\n",
    "{'startCharIndex': 24,'endCharIndex': 34,'entityName': 'Budget'}]},\n",
    "\n",
    "{'text': \"I have a two thousand dollars budget for this trip\",\n",
    "'intentName': 'BookFlight',\n",
    "'entityLabels': [\n",
    "{'startCharIndex': 9,'endCharIndex': 29,'entityName': 'Budget'}]},\n",
    "\n",
    "{'text': 'I am looking to get away to greece on 21th of september and returning back on 15th of november',\n",
    "'intentName': 'BookFlight',\n",
    "'entityLabels': [\n",
    "{'startCharIndex': 28,'endCharIndex': 34,'entityName': 'Destination'},\n",
    "{'startCharIndex': 78,'endCharIndex': 94,'entityName': 'ArrivalDate'},\n",
    "{'startCharIndex': 38, 'endCharIndex': 55, 'entityName': 'DepartureDate'}]},\n",
    "\n",
    "{'text': 'Visit a country in Asia from 30-06-1999 to 01-01-2000',\n",
    "'intentName': 'BookFlight',\n",
    "'entityLabels': [\n",
    "{'startCharIndex': 19,'endCharIndex': 23,'entityName': 'Destination'},\n",
    "{'startCharIndex': 29, 'endCharIndex': 39, 'entityName': 'DepartureDate'},\n",
    "{'startCharIndex': 43,'endCharIndex': 53,'entityName': 'ArrivalDate'}\n",
    "]},\n",
    "\n",
    "{'text': 'Visit a country in Asia on 30/06/1999 and retrurning back on 01/01/2000',\n",
    "'intentName': 'BookFlight',\n",
    "'entityLabels': [\n",
    "{'startCharIndex': 19,'endCharIndex': 23,'entityName': 'Destination'},\n",
    "{'startCharIndex': 27, 'endCharIndex': 37, 'entityName': 'DepartureDate'},\n",
    "{'startCharIndex': 61,'endCharIndex': 71,'entityName': 'ArrivalDate'}\n",
    "]},\n",
    "\n",
    "{'text': 'Visit a country in Asia from 30/06/1999 to 01/01/2000',\n",
    "'intentName': 'BookFlight',\n",
    "'entityLabels': [\n",
    "{'startCharIndex': 19,'endCharIndex': 23,'entityName': 'Destination'},\n",
    "{'startCharIndex': 29, 'endCharIndex': 39, 'entityName': 'DepartureDate'},\n",
    "{'startCharIndex': 43,'endCharIndex': 53,'entityName': 'ArrivalDate'}\n",
    "]},\n",
    "\n",
    "\n",
    "{'text': 'I have a trip to Monaco leaving on 31/03/2022 and I return on 04/04/2022',\n",
    "'intentName': 'BookFlight',\n",
    "'entityLabels': [\n",
    "{'startCharIndex': 17,'endCharIndex': 23,'entityName': 'Destination'},\n",
    "{'startCharIndex': 35, 'endCharIndex': 45, 'entityName': 'DepartureDate'},\n",
    "{'startCharIndex': 62,'endCharIndex': 72,'entityName': 'ArrivalDate'}\n",
    "]},\n",
    "\n",
    "\n",
    "\n",
    "{'text': 'Travel between 27/03/2022 and 30-03-2022',\n",
    "'intentName': 'BookFlight',\n",
    "'entityLabels': [\n",
    "{'startCharIndex': 15, 'endCharIndex': 25, 'entityName': 'DepartureDate'},\n",
    "{'startCharIndex': 30,'endCharIndex': 40,'entityName': 'ArrivalDate'}\n",
    "]}\n",
    "\n",
    "]\"\"\""
   ]
  },
  {
   "cell_type": "code",
   "execution_count": null,
   "id": "d7c16e3f",
   "metadata": {},
   "outputs": [],
   "source": []
  },
  {
   "cell_type": "code",
   "execution_count": null,
   "id": "e6ce2872",
   "metadata": {},
   "outputs": [],
   "source": []
  },
  {
   "cell_type": "code",
   "execution_count": null,
   "id": "55daa64e",
   "metadata": {},
   "outputs": [],
   "source": []
  },
  {
   "cell_type": "code",
   "execution_count": null,
   "id": "f53a0e3e",
   "metadata": {},
   "outputs": [],
   "source": []
  },
  {
   "cell_type": "code",
   "execution_count": null,
   "id": "ee07b0c6",
   "metadata": {},
   "outputs": [],
   "source": []
  },
  {
   "cell_type": "code",
   "execution_count": null,
   "id": "44ea538e",
   "metadata": {},
   "outputs": [],
   "source": []
  }
 ],
 "metadata": {
  "kernelspec": {
   "display_name": "Python 3 (ipykernel)",
   "language": "python",
   "name": "python3"
  },
  "language_info": {
   "codemirror_mode": {
    "name": "ipython",
    "version": 3
   },
   "file_extension": ".py",
   "mimetype": "text/x-python",
   "name": "python",
   "nbconvert_exporter": "python",
   "pygments_lexer": "ipython3",
   "version": "3.9.7"
  }
 },
 "nbformat": 4,
 "nbformat_minor": 5
}
